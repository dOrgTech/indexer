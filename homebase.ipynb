{
 "cells": [
  {
   "cell_type": "markdown",
   "metadata": {},
   "source": [
    "### instantiating services"
   ]
  },
  {
   "cell_type": "code",
   "execution_count": null,
   "metadata": {},
   "outputs": [
    {
     "name": "stdout",
     "output_type": "stream",
     "text": [
      "wrapper address :0xDF38eD7d9DcF15577F0E6eb619b945669F1f74b1\n",
      "node connected\n",
      "Listening for 2 events on 10 contracts...\n",
      "we caught event in address0xDF38eD7d9DcF15577F0E6eb619b945669F1f74b1\n",
      "Event: NewDaoCreated, Contract: 0xDF38eD7d9DcF15577F0E6eb619b945669F1f74b1\n",
      "new dao detected: Monday\n",
      "heartbeat: 50\n"
     ]
    },
    {
     "ename": "KeyboardInterrupt",
     "evalue": "",
     "output_type": "error",
     "traceback": [
      "\u001b[1;31m---------------------------------------------------------------------------\u001b[0m",
      "\u001b[1;31mKeyboardInterrupt\u001b[0m                         Traceback (most recent call last)",
      "Cell \u001b[1;32mIn[13], line 165\u001b[0m\n\u001b[0;32m    162\u001b[0m \u001b[38;5;28;01mif\u001b[39;00m heartbeat\u001b[38;5;241m%\u001b[39m\u001b[38;5;241m50\u001b[39m\u001b[38;5;241m==\u001b[39m\u001b[38;5;241m0\u001b[39m:\n\u001b[0;32m    163\u001b[0m     \u001b[38;5;28mprint\u001b[39m(\u001b[38;5;124m\"\u001b[39m\u001b[38;5;124mheartbeat: \u001b[39m\u001b[38;5;124m\"\u001b[39m\u001b[38;5;241m+\u001b[39m\u001b[38;5;28mstr\u001b[39m(heartbeat))\n\u001b[1;32m--> 165\u001b[0m \u001b[43mtime\u001b[49m\u001b[38;5;241;43m.\u001b[39;49m\u001b[43msleep\u001b[49m\u001b[43m(\u001b[49m\u001b[38;5;241;43m3\u001b[39;49m\u001b[43m)\u001b[49m\n",
      "\u001b[1;31mKeyboardInterrupt\u001b[0m: "
     ]
    }
   ],
   "source": [
    "from apps.homebase.entities import ProposalStatus, Proposal, StateInContract, Txaction, Token, Member, Org, Vote\n",
    "from apps.homebase.abis import wrapperAbi, daoAbiGlobal,tokenAbiGlobal\n",
    "from datetime import datetime\n",
    "import time\n",
    "from firebase_admin import initialize_app\n",
    "from firebase_admin import firestore,credentials\n",
    "from web3 import Web3\n",
    "import re\n",
    "cred = credentials.Certificate('homebase.json')\n",
    "# initialize_app(cred)\n",
    "db = firestore.client()\n",
    "networks=db.collection(\"contracts\")\n",
    "ceva=networks.document(\"Etherlink-Testnet\").get()\n",
    "wrapper_address = ceva.to_dict()['wrapper']\n",
    "print(\"wrapper address :\" + str(wrapper_address))\n",
    "rpc=\"https://node.ghostnet.etherlink.com\"\n",
    "web3 = Web3(Web3.HTTPProvider(rpc))\n",
    "papers={}\n",
    "daos=[]\n",
    "if web3.is_connected():\n",
    "    print(\"node connected\")\n",
    "else:\n",
    "    print(\"node connection failed!\")\n",
    "\n",
    "wabi=re.sub(r'\\n+', ' ', wrapperAbi).strip()\n",
    "tabi=re.sub(r'\\n+', ' ', tokenAbiGlobal).strip()\n",
    "wrapper_contract = web3.eth.contract(address=wrapper_address, abi=wabi)\n",
    "daos_collection=db.collection('idaosEtherlink-Testnet')\n",
    "docs = list(daos_collection.stream())\n",
    "dao_addresses = [doc.id for doc in docs]\n",
    "\n",
    "class Paper:\n",
    "    ZERO_ADDRESS = \"0x0000000000000000000000000000000000000000\"\n",
    "    def __init__(self, address,kind,dao=None):\n",
    "        self.address = address\n",
    "        self.kind=kind\n",
    "        self.contract=None\n",
    "        self.dao=dao\n",
    "        if kind==\"wrapper\":\n",
    "            self.abi=re.sub(r'\\n+', ' ', wrapperAbi).strip()\n",
    "        elif kind == \"token\":\n",
    "            self.abi = re.sub(r'\\n+', ' ', tokenAbiGlobal).strip()\n",
    "        else:\n",
    "            self.abi = None\n",
    "\n",
    "    def get_contract(self):\n",
    "        if self.contract==None:\n",
    "            self.contract=web3.eth.contract(address=self.address, abi=self.abi) \n",
    "        return self.contract\n",
    "    \n",
    "    def add_dao(self,log):\n",
    "        decoded_event = wrapper_contract.events.NewDaoCreated().process_log(log)\n",
    "        name = decoded_event['args']['name']\n",
    "        print(\"new dao detected: \"+name)\n",
    "        org:Org=Org(name=name)\n",
    "        org.creationDate=datetime.now()\n",
    "        org.govTokenAddress=decoded_event['args']['token']\n",
    "        org.address = decoded_event['args']['dao']\n",
    "        org.symbol = decoded_event['args']['symbol']\n",
    "        org.registryAddress=decoded_event['args']['registry']\n",
    "        org.description = decoded_event['args']['description']\n",
    "        members=decoded_event['args']['initialMembers']\n",
    "        amounts=decoded_event['args']['initialAmounts']\n",
    "        org.holders=len(members)\n",
    "        supply=0\n",
    "        batch = db.batch()\n",
    "        for num in range(len(members)):\n",
    "            m:Member=Member(address=members[num],personalBalance=amounts[num],delegate=\"\",votingWeight=\"0\")\n",
    "            member_doc_ref = daos_collection \\\n",
    "                    .document(org.address) \\\n",
    "                    .collection('members') \\\n",
    "                    .document(m.address)\n",
    "            batch.set(reference=member_doc_ref, document_data=m.toJson())\n",
    "            supply=supply+amounts[num]\n",
    "        org.totalSupply=str(supply)\n",
    "        keys=decoded_event['args']['keys']\n",
    "        values=decoded_event['args']['values']\n",
    "        org.registry={keys[i]: values[i] for i in range(len(keys))}\n",
    "        org.quorum=decoded_event['args']['initialAmounts'][-1]\n",
    "        org.proposalThreshold=decoded_event['args']['initialAmounts'][-2]\n",
    "        org.votingDuration=decoded_event['args']['initialAmounts'][-3]\n",
    "        org.treasuryAddress=\"0xFdEe849bA09bFE39aF1973F68bA8A1E1dE79DBF9\"\n",
    "        org.votingDelay=decoded_event['args']['initialAmounts'][-4]\n",
    "        org.executionDelay=decoded_event['args']['executionDelay']\n",
    "        token_contract = web3.eth.contract(address=org.govTokenAddress, abi=tabi)\n",
    "        org.decimals = token_contract.functions.decimals().call()\n",
    "        daos_collection.document(org.address).set(org.toJson())\n",
    "        batch.commit()\n",
    "        return org.address\n",
    "    \n",
    "    def delegate(self,log):\n",
    "        contract=self.get_contract()\n",
    "        data=contract.events.DelegateChanged().process_log(log)\n",
    "        delegator= data['args']['delegator']\n",
    "        fromDelegate=data['args']['fromDelegate']\n",
    "        toDelegate=data['args']['toDelegate']\n",
    "        batch = db.batch()\n",
    "        delegator_doc_ref = daos_collection \\\n",
    "                    .document(self.dao) \\\n",
    "                    .collection('members') \\\n",
    "                    .document(delegator)\n",
    "        batch.set(reference=delegator_doc_ref, document_data={\"delegate\":toDelegate})\n",
    "        if delegator!=toDelegate:\n",
    "            print(\"delegating to someone else\")\n",
    "            toDelegate_doc_ref = daos_collection \\\n",
    "                    .document(self.dao) \\\n",
    "                    .collection('members') \\\n",
    "                    .document(toDelegate).collection(\"constituents\").document(delegator)\n",
    "            batch.set(reference=toDelegate_doc_ref, document_data={\"address\":delegator})\n",
    "\n",
    "            if fromDelegate and fromDelegate != self.ZERO_ADDRESS and fromDelegate != delegator:\n",
    "                    fromDelegate_doc_ref = daos_collection \\\n",
    "                        .document(self.dao) \\\n",
    "                        .collection('members') \\\n",
    "                        .document(fromDelegate) \\\n",
    "                        .collection(\"constituents\") \\\n",
    "                        .document(delegator)\n",
    "                    batch.delete(fromDelegate_doc_ref)\n",
    "        batch.commit()\n",
    "        return None\n",
    "\n",
    "    def handle_event(self,log):\n",
    "        if self.kind==\"wrapper\":\n",
    "            self.add_dao(log)\n",
    "        if self.kind==\"token\":\n",
    "            self.delegate(log)\n",
    "\n",
    "#I hate my life\n",
    "\n",
    "for doc in docs:\n",
    "    obj=doc.to_dict()\n",
    "    try:\n",
    "        p=Paper(address=obj['token'],kind=\"token\",dao=doc.id)\n",
    "    except Exception as e:\n",
    "        print(\"one DAO contract can't parse correctly: \"+str(e))\n",
    "    papers.update({obj['token']:p})\n",
    "\n",
    "event_signatures = {\n",
    "    web3.keccak(text=\"NewDaoCreated(address,address,address[],uint256[],string,string,string,uint256,address,string[],string[])\").hex(): \"NewDaoCreated\",\n",
    "    \"0x3134e8a2e6d97e929a7e54011ea5485d7d196dd5f0ba4d4ef95803e8e3fc257f\": \"DelegateChanged\",\n",
    "}\n",
    "\n",
    "papers.update({wrapper_address:Paper(wrapper_address,\"wrapper\")})\n",
    "listening_to_addresses=[wrapper_address]\n",
    "listening_to_addresses=listening_to_addresses+list(papers.keys())\n",
    "\n",
    "\n",
    "counter=0\n",
    "processed_transactions = set()\n",
    "heartbeat=0\n",
    "print(f\"Listening for {len(event_signatures)} events on {len(papers.items())} contracts...\")\n",
    "\n",
    "while True:\n",
    "    heartbeat+=1\n",
    "    try:\n",
    "        latest=web3.eth.block_number\n",
    "        first=latest-4\n",
    "        logs = web3.eth.get_logs({\n",
    "            \"fromBlock\": first,\n",
    "            \"toBlock\": latest,\n",
    "            \"address\": listening_to_addresses,\n",
    "            \"topics\": [[*event_signatures.keys()], None]\n",
    "        })\n",
    "        for log in logs:\n",
    "            tx_hash = log[\"transactionHash\"].hex()\n",
    "            if tx_hash in processed_transactions:\n",
    "                print(\"already did this one\")\n",
    "                continue  # Skip duplicate\n",
    "            contract_address = log[\"address\"]\n",
    "            event_signature = log[\"topics\"][0].hex()\n",
    "            print(\"we caught event in address\" + str(contract_address))\n",
    "            event_name = event_signatures.get(event_signature)\n",
    "            print(f\"Event: {event_name}, Contract: {contract_address}\")\n",
    "            new_contract_addresses=papers[contract_address].handle_event(log)\n",
    "            if new_contract_addresses != None:\n",
    "                dao_address=new_contract_addresses[0]\n",
    "                token_address=new_contract_addresses[1]\n",
    "                listening_to_addresses=listening_to_addresses+[dao_address]+[token_address]\n",
    "                papers.update({token_address:Paper(address=token_address,kind=\"token\", dao=dao_address )})\n",
    "            processed_transactions.add(tx_hash)\n",
    "    except Exception as e:\n",
    "        print(\"something went wrong \"+str(e))\n",
    "\n",
    "    if heartbeat%50==0:\n",
    "        print(\"heartbeat: \"+str(heartbeat))\n",
    "\n",
    "    time.sleep(3)\n",
    "    "
   ]
  },
  {
   "cell_type": "code",
   "execution_count": 7,
   "metadata": {},
   "outputs": [
    {
     "data": {
      "text/plain": [
       "[]"
      ]
     },
     "execution_count": 7,
     "metadata": {},
     "output_type": "execute_result"
    }
   ],
   "source": [
    "logs"
   ]
  },
  {
   "cell_type": "code",
   "execution_count": 9,
   "metadata": {},
   "outputs": [
    {
     "data": {
      "text/plain": [
       "[1, 2, 3, 4, 6]"
      ]
     },
     "execution_count": 9,
     "metadata": {},
     "output_type": "execute_result"
    }
   ],
   "source": [
    "a=[1,2,3]\n",
    "b=[4]\n",
    "c=[6]\n",
    "d=a+b+c\n",
    "d"
   ]
  },
  {
   "cell_type": "code",
   "execution_count": 10,
   "metadata": {},
   "outputs": [],
   "source": [
    "logs=[\n",
    "  {\n",
    "    \"address\": \"0xcfdec38da296e439a0a865519e8b48a5b0bff5b4\",\n",
    "    \"topics\": [\n",
    "      \"0x3134e8a2e6d97e929a7e54011ea5485d7d196dd5f0ba4d4ef95803e8e3fc257f\",\n",
    "      \"0x000000000000000000000000a9f8f9c0bf3188ceddb9684ae28655187552bae9\",\n",
    "      \"0x000000000000000000000000a9f8f9c0bf3188ceddb9684ae28655187552bae9\",\n",
    "      \"0x000000000000000000000000a9f8f9c0bf3188ceddb9684ae28655187552bae9\"\n",
    "    ],\n",
    "    \"data\": \"0x\",\n",
    "    \"blockNumber\": \"0xd9936d\",\n",
    "    \"transactionHash\": \"0xb4535077457b25e15a943c6cfb18fd48f2d3de3f53b62deb6c8ac5bac8689ff1\",\n",
    "    \"transactionIndex\": \"0x0\",\n",
    "    \"blockHash\": \"0x9147729e6f852ca605084f3ddf215295dbfa1c9b1a28561427408108121a7ee5\",\n",
    "    \"logIndex\": \"0x0\",\n",
    "    \"removed\": False\n",
    "  }\n",
    "]"
   ]
  },
  {
   "cell_type": "code",
   "execution_count": 11,
   "metadata": {},
   "outputs": [],
   "source": [
    "contract:web3.eth.contract=papers['0xa0e858BB3dD3eF3C0B08eE563c6c2a46820C88A3'].get_contract()\n",
    "ceva=contract.events.DelegateChanged().process_log(logs[0])"
   ]
  },
  {
   "cell_type": "code",
   "execution_count": 12,
   "metadata": {},
   "outputs": [
    {
     "data": {
      "text/plain": [
       "{'delegator': '0xa9F8F9C0bf3188cEDdb9684ae28655187552bAE9',\n",
       " 'fromDelegate': '0xa9F8F9C0bf3188cEDdb9684ae28655187552bAE9',\n",
       " 'toDelegate': '0xa9F8F9C0bf3188cEDdb9684ae28655187552bAE9'}"
      ]
     },
     "execution_count": 12,
     "metadata": {},
     "output_type": "execute_result"
    }
   ],
   "source": [
    "ceva['args']"
   ]
  },
  {
   "cell_type": "code",
   "execution_count": null,
   "metadata": {},
   "outputs": [],
   "source": [
    "decoded = papers['0xa0e858BB3dD3eF3C0B08eE563c6c2a46820C88A3'].get_contract().events.DelegateVotesChanged().process_log(log)"
   ]
  },
  {
   "cell_type": "code",
   "execution_count": 4,
   "metadata": {},
   "outputs": [
    {
     "name": "stdout",
     "output_type": "stream",
     "text": [
      "Address value: 2\n"
     ]
    }
   ],
   "source": [
    "tabi=re.sub(r'\\n+', ' ', tokenAbiGlobal).strip()\n",
    "token_contract = web3.eth.contract(address=\"0xFdEe849bA09bFE39aF1973F68bA8A1E1dE79DBF9\", abi=tabi)\n",
    "\n",
    "\n",
    "# Call the read-only function\n",
    "\n",
    "\n",
    "print(f\"Address value: {address_variable_value}\")\n"
   ]
  },
  {
   "cell_type": "code",
   "execution_count": 8,
   "metadata": {},
   "outputs": [
    {
     "data": {
      "text/plain": [
       "int"
      ]
     },
     "execution_count": 8,
     "metadata": {},
     "output_type": "execute_result"
    }
   ],
   "source": [
    "type(address_variable_value)"
   ]
  },
  {
   "cell_type": "code",
   "execution_count": 23,
   "metadata": {},
   "outputs": [
    {
     "data": {
      "text/plain": [
       "0"
      ]
     },
     "execution_count": 23,
     "metadata": {},
     "output_type": "execute_result"
    }
   ],
   "source": [
    "first=web3.eth.block_number-4\n",
    "logs = web3.eth.get_logs({\n",
    "    \"fromBlock\": first,\n",
    "    \"toBlock\": web3.eth.block_number,\n",
    "    \"address\": wrapper_address,\n",
    "    \"topics\": [\n",
    "        web3.keccak(text=\"NewDaoCreated(address,address,address[],uint256[],string,string,string,uint256)\").hex(),\n",
    "        None,  # Match any dao address\n",
    "    ]\n",
    "})\n",
    "len(logs)"
   ]
  },
  {
   "cell_type": "code",
   "execution_count": 24,
   "metadata": {},
   "outputs": [
    {
     "data": {
      "text/plain": [
       "13872535"
      ]
     },
     "execution_count": 24,
     "metadata": {},
     "output_type": "execute_result"
    }
   ],
   "source": [
    "first"
   ]
  },
  {
   "cell_type": "code",
   "execution_count": 9,
   "metadata": {},
   "outputs": [],
   "source": [
    "decoded_event = wrapper_contract.events.NewDaoCreated().process_log(logs[0])"
   ]
  },
  {
   "cell_type": "code",
   "execution_count": 10,
   "metadata": {},
   "outputs": [
    {
     "data": {
      "text/plain": [
       "AttributeDict({'args': AttributeDict({'dao': '0x833365797370B3fE7F5B86E10FA62195e74b102e',\n",
       "  'token': '0x69d7aF22AdDECA38b47686237c5a3d6Ce915111E',\n",
       "  'initialMembers': ['0x36fE1912506E4b3B85e5a4e102237Ea81da1C3d3'],\n",
       "  'initialAmounts': [100000, 1, 1, 1, 1],\n",
       "  'name': 'aced',\n",
       "  'symbol': 'ADS',\n",
       "  'description': 'this is the description',\n",
       "  'executionDelay': 90}),\n",
       " 'event': 'NewDaoCreated',\n",
       " 'logIndex': 11,\n",
       " 'transactionIndex': 1,\n",
       " 'transactionHash': HexBytes('0x36e1197c733317bed02a9cf6e9bb084ba8ccc5a04cdff9072c51a7fd9c46530c'),\n",
       " 'address': '0xA3C99359F376bE32ADE1C259Faa01e119B038436',\n",
       " 'blockHash': HexBytes('0x9570374a8a889a9c65db2b6c54d313caebfbbbac6ec02c14ad45089199c5f5f8'),\n",
       " 'blockNumber': 13871169})"
      ]
     },
     "execution_count": 10,
     "metadata": {},
     "output_type": "execute_result"
    }
   ],
   "source": [
    "decoded_event"
   ]
  },
  {
   "cell_type": "code",
   "execution_count": 20,
   "metadata": {},
   "outputs": [
    {
     "data": {
      "text/plain": [
       "['0x379080EE8941CE5Ae5560d5E32A4CEBBaC7C6b92']"
      ]
     },
     "execution_count": 20,
     "metadata": {},
     "output_type": "execute_result"
    }
   ],
   "source": [
    "project_addresses = [doc.id for doc in projects_collection.stream()]\n",
    "project_addresses"
   ]
  },
  {
   "cell_type": "code",
   "execution_count": 10,
   "metadata": {},
   "outputs": [
    {
     "data": {
      "text/plain": [
       "8"
      ]
     },
     "execution_count": 10,
     "metadata": {},
     "output_type": "execute_result"
    }
   ],
   "source": [
    "a=[1,2,3,4,5,6,7,8,9]\n",
    "a[-2]"
   ]
  },
  {
   "cell_type": "code",
   "execution_count": 26,
   "metadata": {},
   "outputs": [],
   "source": [
    "\n",
    "def listen_to_project_events(contract, contract_address):\n",
    "    global processed_transactions\n",
    "    \n",
    "    # Define the topics for all events\n",
    "    event_signatures = {\n",
    "        \"SetParties\": web3.keccak(text=\"SetParties(address,address,string)\").hex(),\n",
    "        \"SendFunds\": web3.keccak(text=\"SendFunds(address,uint256)\").hex(),\n",
    "        \"ContractorPaid\": web3.keccak(text=\"ContractorPaid(address,uint256)\").hex(),\n",
    "        \"ContributorWithdrawn\": web3.keccak(text=\"ContributorWithdrawn(address,uint256)\").hex(),\n",
    "        \"ProjectDisputed\": web3.keccak(text=\"ProjectDisputed(address)\").hex(),\n",
    "        \"ProjectClosed\": web3.keccak(text=\"ProjectClosed(address)\").hex(),\n",
    "        \"ContractSigned\": web3.keccak(text=\"ContractSigned(address)\").hex(),\n",
    "        \"ArbitrationDecision\": web3.keccak(text=\"ArbitrationDecision(address,uint256,string)\").hex(),\n",
    "    }\n",
    "\n",
    "    # Get logs for the current contract\n",
    "    logs = web3.eth.get_logs({\n",
    "        \"fromBlock\": web3.eth.block_number-3,\n",
    "        \"toBlock\": web3.eth.block_number,\n",
    "        \"address\": contract_address,\n",
    "    })\n",
    "\n",
    "    for log in logs:\n",
    "        tx_hash = log[\"transactionHash\"].hex()\n",
    "        if tx_hash in processed_transactions:\n",
    "            print(\"already did this one\")\n",
    "            continue  # Skip already processed transactions\n",
    "\n",
    "        try:\n",
    "            event_type = None\n",
    "            for event_name, topic_hash in event_signatures.items():\n",
    "                print(\"got one!\")\n",
    "                if log[\"topics\"][0].hex() == topic_hash:\n",
    "                    event_type = event_name\n",
    "                    break\n",
    "\n",
    "            if not event_type:\n",
    "                print(\"Not an avent type\")\n",
    "                continue  # Skip logs that don't match any defined events\n",
    "\n",
    "            # Decode and process the event\n",
    "            decoded_event = getattr(contract.events, event_type)().process_log(log)\n",
    "            event_data = getattr(ProjectEvents, event_type)(decoded_event)\n",
    "\n",
    "            print(f\"Event detected in contract {contract_address} ({event_type}):\", event_data)\n",
    "\n",
    "        except Exception as e:\n",
    "            print(f\"Error processing log for contract {contract_address}: {e}\")\n",
    "\n",
    "        # Mark the transaction as processed\n",
    "        processed_transactions.add(tx_hash)\n"
   ]
  },
  {
   "cell_type": "code",
   "execution_count": null,
   "metadata": {},
   "outputs": [],
   "source": [
    "while True:\n",
    "    heartbeat += 1\n",
    "\n",
    "    for address in project_addresses:\n",
    "        # Get contract instance\n",
    "        contract = web3.eth.contract(address=address, abi=native_project_abi)\n",
    "        try:\n",
    "            listen_to_project_events(contract, address)\n",
    "        except Exception as e:\n",
    "            \n",
    "            print(\"Errrorrr \"+e)\n",
    "\n",
    "    if heartbeat % 10 == 0:\n",
    "        print(f\"Heartbeat: {heartbeat}\")\n",
    "\n",
    "    time.sleep(3)"
   ]
  },
  {
   "cell_type": "code",
   "execution_count": null,
   "metadata": {},
   "outputs": [],
   "source": [
    "import apps.services"
   ]
  },
  {
   "cell_type": "code",
   "execution_count": null,
   "metadata": {},
   "outputs": [],
   "source": [
    "import requests\n",
    "dorg_homebase_channel_id = \"804689936388325376\"\n",
    "\n",
    "def send_discord_message(msg, channel_id):\n",
    "    global discord_bot_token\n",
    "    url = \"https://discordapp.com/api/channels/\"+channel_id+\"/messages\"\n",
    "    headers = {\n",
    "        \"Authorization\": \"Bot \" + discord_bot_token\n",
    "    }\n",
    "    body = {\n",
    "        \"content\": msg\n",
    "    }\n",
    "    print(\"before sending \"+msg)\n",
    "    response = requests.request(\"POST\", url, headers=headers, data=body)\n",
    "    return {\"data\": str(\"Status code \"+str(response.status_code))}"
   ]
  },
  {
   "cell_type": "code",
   "execution_count": 31,
   "metadata": {},
   "outputs": [
    {
     "name": "stdout",
     "output_type": "stream",
     "text": [
      "before sending INDEXER IS DOWN ON TRUSTLESS!\n"
     ]
    },
    {
     "data": {
      "text/plain": [
       "{'data': 'Status code 200'}"
      ]
     },
     "execution_count": 31,
     "metadata": {},
     "output_type": "execute_result"
    }
   ],
   "source": [
    "send_discord_message(channel_id=dorg_homebase_channel_id, msg=\"INDEXER IS DOWN ON TRUSTLESS!\")"
   ]
  },
  {
   "cell_type": "code",
   "execution_count": 33,
   "metadata": {},
   "outputs": [],
   "source": [
    "from dotenv import dotenv_values\n",
    "env_variables = dotenv_values(\".env\")"
   ]
  },
  {
   "cell_type": "code",
   "execution_count": null,
   "metadata": {},
   "outputs": [],
   "source": [
    "my_variable = env_variables[\"discord_bot_token\"]\n",
    "print(my_variable)"
   ]
  }
 ],
 "metadata": {
  "kernelspec": {
   "display_name": "media",
   "language": "python",
   "name": "python3"
  },
  "language_info": {
   "codemirror_mode": {
    "name": "ipython",
    "version": 3
   },
   "file_extension": ".py",
   "mimetype": "text/x-python",
   "name": "python",
   "nbconvert_exporter": "python",
   "pygments_lexer": "ipython3",
   "version": "3.12.3"
  }
 },
 "nbformat": 4,
 "nbformat_minor": 2
}
