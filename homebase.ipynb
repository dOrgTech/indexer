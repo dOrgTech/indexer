{
 "cells": [
  {
   "cell_type": "markdown",
   "metadata": {},
   "source": [
    "### instantiating services"
   ]
  },
  {
   "cell_type": "code",
   "execution_count": 2,
   "metadata": {},
   "outputs": [
    {
     "data": {
      "text/plain": [
       "update_time {\n",
       "  seconds: 1733660616\n",
       "  nanos: 578770000\n",
       "}"
      ]
     },
     "execution_count": 2,
     "metadata": {},
     "output_type": "execute_result"
    }
   ],
   "source": [
    "from datetime import datetime, timezone\n",
    "from firebase_admin import initialize_app\n",
    "from firebase_admin import firestore,credentials\n",
    "from web3 import Web3\n",
    "import re\n",
    "cred = credentials.Certificate('homebase.json')\n",
    "initialize_app(cred)\n",
    "db = firestore.client()\n",
    "some=db.collection(\"some\")\n",
    "# Always get the current time in UTC\n",
    "uite = datetime.now(timezone.utc)\n",
    "some.document(\"whatever\").set({\"what\": uite})"
   ]
  },
  {
   "cell_type": "code",
   "execution_count": null,
   "metadata": {},
   "outputs": [],
   "source": [
    "daos_collection=db.collection('idaosEtherlink-Testnet')\n",
    "proposal_doc_ref = daos_collection \\\n",
    "            .document(\"0x54A2f9A2181237E2D655Ec65A690AC60B1fa5458\") \\\n",
    "            .collection('proposals') \\\n",
    "            .document(\"22958439915031532146075981037490067235039975728641625055144642095640598868973\")\n"
   ]
  },
  {
   "cell_type": "code",
   "execution_count": 16,
   "metadata": {},
   "outputs": [],
   "source": [
    "data=ceva.to_dict()"
   ]
  },
  {
   "cell_type": "code",
   "execution_count": 27,
   "metadata": {},
   "outputs": [],
   "source": [
    "daos_collection=db.collection('idaosEtherlink-Testnet')\n",
    "proposal_doc_ref = daos_collection \\\n",
    "            .document(\"0x54A2f9A2181237E2D655Ec65A690AC60B1fa5458\") \\\n",
    "            .collection('proposals') \\\n",
    "            .document(\"22958439915031532146075981037490067235039975728641625055144642095640598868973\")"
   ]
  },
  {
   "cell_type": "code",
   "execution_count": 3,
   "metadata": {},
   "outputs": [
    {
     "name": "stdout",
     "output_type": "stream",
     "text": [
      "against 721200, inFavor 100000\n"
     ]
    }
   ],
   "source": [
    "daos_collection=db.collection('idaosEtherlink-Testnet')\n",
    "proposal_doc_ref = daos_collection \\\n",
    "            .document(\"0x54A2f9A2181237E2D655Ec65A690AC60B1fa5458\") \\\n",
    "            .collection('proposals') \\\n",
    "            .document(\"22958439915031532146075981037490067235039975728641625055144642095640598868973\")\n",
    "ceva=proposal_doc_ref.get()\n",
    "data=ceva.to_dict()\n",
    "from apps.homebase.entities import Proposal\n",
    "org=None\n",
    "prop:Proposal = Proposal(name=\"whatever\", org=org)\n",
    "prop.fromJson(data)\n",
    "print(f\"against {prop.against}, inFavor {prop.inFavor}\")"
   ]
  },
  {
   "cell_type": "code",
   "execution_count": 44,
   "metadata": {},
   "outputs": [],
   "source": [
    "a=\"0x2559ddf5000000000000000000000000000000000000000000000000000000000000004000000000000000000000000000000000000000000000000000000000000000800000000000000000000000000000000000000000000000000000000000000007636576616d6963000000000000000000000000000000000000000000000000000000000000000000000000000000000000000000000000000000000000000017736976616c6f617265616d65612076696e652061696369000000000000000000\"\n",
    "b=\"0x2559ddf5000000000000000000000000000000000000000000000000000000000000004000000000000000000000000000000000000000000000000000000000000000800000000000000000000000000000000000000000000000000000000000000007636576616d6963000000000000000000000000000000000000000000000000000000000000000000000000000000000000000000000000000000000000000017736976616c6f617265616d65612076696e652061696369000000000000000000\""
   ]
  },
  {
   "cell_type": "code",
   "execution_count": 45,
   "metadata": {},
   "outputs": [
    {
     "data": {
      "text/plain": [
       "True"
      ]
     },
     "execution_count": 45,
     "metadata": {},
     "output_type": "execute_result"
    }
   ],
   "source": [
    "a==b"
   ]
  },
  {
   "cell_type": "code",
   "execution_count": 29,
   "metadata": {},
   "outputs": [
    {
     "data": {
      "text/plain": [
       "'sivaloareamea vine aici'"
      ]
     },
     "execution_count": 29,
     "metadata": {},
     "output_type": "execute_result"
    }
   ],
   "source": [
    "valoare=uite.split(\"\\\\x00\\\\x00\\\\x00\\\\x00\\\\x00\\\\x17\")[1].split(\"\\\\x00\\\\x00\\\\x00\\\\x00\\\\x00\\\\\")[0]\n",
    "valoare"
   ]
  },
  {
   "cell_type": "code",
   "execution_count": 30,
   "metadata": {},
   "outputs": [
    {
     "name": "stdout",
     "output_type": "stream",
     "text": [
      "sivaloareamea vine aici\n",
      "cevamic\n"
     ]
    }
   ],
   "source": [
    "cheie=uite.split(\"\\\\x00\\\\x00\\\\x00\\\\x00\\\\x07\")[1].split(\"\\\\x00\\\\x00\\\\x00\\\\x00\")[0]\n",
    "valoare=uite.split(\"\\\\x00\\\\x00\\\\x00\\\\x00\\\\x00\\\\x17\")[1].split(\"\\\\x00\\\\x00\\\\x00\\\\x00\\\\x00\\\\\")[0]\n",
    "print(valoare)\n",
    "print(cheie)"
   ]
  },
  {
   "cell_type": "code",
   "execution_count": null,
   "metadata": {},
   "outputs": [
    {
     "name": "stdout",
     "output_type": "stream",
     "text": [
      "cevamic sivaloareamea vine aici\n"
     ]
    }
   ],
   "source": [
    "import codecs\n",
    "\n",
    "def hex_to_bytes(hex_string):\n",
    "    return codecs.decode(hex_string, 'hex')\n",
    "\n",
    "def bytes_to_int(byte_array):\n",
    "    return int.from_bytes(byte_array, byteorder='big')\n",
    "\n",
    "def decode_params(data_bytes):\n",
    "    data_without_selector = data_bytes[4:]\n",
    "    param1_offset_bytes = data_without_selector[:32]\n",
    "    param2_offset_bytes = data_without_selector[32:64]\n",
    "    param1_offset = bytes_to_int(param1_offset_bytes)\n",
    "    param2_offset = bytes_to_int(param2_offset_bytes)\n",
    "    param1_length_bytes = data_without_selector[param1_offset:param1_offset + 32]\n",
    "    param1_length = bytes_to_int(param1_length_bytes)\n",
    "    param1_data_bytes = data_without_selector[param1_offset + 32:param1_offset + 32 + param1_length]\n",
    "    param1_data = param1_data_bytes.decode('utf-8')\n",
    "    param2_length_bytes = data_without_selector[param2_offset:param2_offset + 32]\n",
    "    param2_length = bytes_to_int(param2_length_bytes)\n",
    "    param2_data_bytes = data_without_selector[param2_offset + 32:param2_offset + 32 + param2_length]\n",
    "    param2_data = param2_data_bytes.decode('utf-8')\n",
    "    return param1_data, param2_data\n",
    "\n",
    "# Example usage\n",
    "hex_string = prop.callDatas[0]\n",
    "param1, param2 = decode_params(hex_string)\n",
    "print(param1, param2)\n",
    "\n"
   ]
  },
  {
   "cell_type": "code",
   "execution_count": 29,
   "metadata": {},
   "outputs": [
    {
     "data": {
      "text/plain": [
       "update_time {\n",
       "  seconds: 1733579362\n",
       "  nanos: 147842000\n",
       "}"
      ]
     },
     "execution_count": 29,
     "metadata": {},
     "output_type": "execute_result"
    }
   ],
   "source": [
    "ceva=proposal_doc_ref.get()\n",
    "option=0\n",
    "votingWeight=\"400000\"\n",
    "if option==1:\n",
    "    prop.inFavor= str(int(prop.inFavor)+int(votingWeight))\n",
    "    prop.votesFor+=1\n",
    "elif option==0:\n",
    "    prop.against= str(int(prop.against)+int(votingWeight))\n",
    "    prop.votesAgainst+=1\n",
    "proposal_doc_ref.set(prop.toJson())\n"
   ]
  },
  {
   "cell_type": "code",
   "execution_count": null,
   "metadata": {},
   "outputs": [
    {
     "name": "stdout",
     "output_type": "stream",
     "text": [
      "from chain: 2024-12-06 12:53:31\n",
      "timestamp from chain 1733489611\n",
      "local: 2024-12-06 14:53:32\n"
     ]
    },
    {
     "name": "stderr",
     "output_type": "stream",
     "text": [
      "C:\\Users\\Administrator\\AppData\\Local\\Temp\\ipykernel_11008\\282232039.py:8: DeprecationWarning: datetime.datetime.utcfromtimestamp() is deprecated and scheduled for removal in a future version. Use timezone-aware objects to represent datetimes in UTC: datetime.datetime.fromtimestamp(timestamp, datetime.UTC).\n",
      "  dt_object = datetime.utcfromtimestamp(timestamp)\n"
     ]
    }
   ],
   "source": [
    "from datetime import datetime\n",
    "from web3 import Web3\n",
    "rpc=\"https://node.ghostnet.etherlink.com\"\n",
    "# web3 = Web3(Web3.HTTPProvider(rpc))\n",
    "block=web3.eth.get_block('latest')\n",
    "now=datetime.now()\n",
    "timestamp =block['timestamp']\n",
    "dt_object = datetime.utcfromtimestamp(timestamp)\n",
    "print(f\"from chain: {dt_object.strftime('%Y-%m-%d %H:%M:%S')}\")\n",
    "print(\"timestamp from chain \"+str(timestamp))\n",
    "print(f\"local: {now.strftime('%Y-%m-%d %H:%M:%S')}\")"
   ]
  },
  {
   "cell_type": "code",
   "execution_count": 11,
   "metadata": {},
   "outputs": [
    {
     "name": "stdout",
     "output_type": "stream",
     "text": [
      "wrapper address :0xDF38eD7d9DcF15577F0E6eb619b945669F1f74b1\n",
      "node connected\n",
      "Listening for 7 events on 11 contracts...\n"
     ]
    },
    {
     "ename": "KeyboardInterrupt",
     "evalue": "",
     "output_type": "error",
     "traceback": [
      "\u001b[1;31m---------------------------------------------------------------------------\u001b[0m",
      "\u001b[1;31mKeyboardInterrupt\u001b[0m                         Traceback (most recent call last)",
      "Cell \u001b[1;32mIn[11], line 92\u001b[0m\n\u001b[0;32m     89\u001b[0m \u001b[38;5;28;01mif\u001b[39;00m heartbeat\u001b[38;5;241m%\u001b[39m\u001b[38;5;241m50\u001b[39m\u001b[38;5;241m==\u001b[39m\u001b[38;5;241m0\u001b[39m:\n\u001b[0;32m     90\u001b[0m     \u001b[38;5;28mprint\u001b[39m(\u001b[38;5;124m\"\u001b[39m\u001b[38;5;124mheartbeat: \u001b[39m\u001b[38;5;124m\"\u001b[39m\u001b[38;5;241m+\u001b[39m\u001b[38;5;28mstr\u001b[39m(heartbeat))\n\u001b[1;32m---> 92\u001b[0m \u001b[43mtime\u001b[49m\u001b[38;5;241;43m.\u001b[39;49m\u001b[43msleep\u001b[49m\u001b[43m(\u001b[49m\u001b[38;5;241;43m3\u001b[39;49m\u001b[43m)\u001b[49m\n",
      "\u001b[1;31mKeyboardInterrupt\u001b[0m: "
     ]
    }
   ],
   "source": [
    "from apps.homebase.abis import wrapperAbi, daoAbiGlobal,tokenAbiGlobal\n",
    "from apps.homebase.paper import Paper\n",
    "from datetime import datetime\n",
    "import time\n",
    "from firebase_admin import initialize_app\n",
    "from firebase_admin import firestore,credentials\n",
    "from web3 import Web3\n",
    "import re\n",
    "cred = credentials.Certificate('homebase.json')\n",
    "initialize_app(cred)\n",
    "db = firestore.client()\n",
    "networks=db.collection(\"contracts\")\n",
    "ceva=networks.document(\"Etherlink-Testnet\").get()\n",
    "wrapper_address = ceva.to_dict()['wrapper']\n",
    "print(\"wrapper address :\" + str(wrapper_address))\n",
    "rpc=\"https://node.ghostnet.etherlink.com\"\n",
    "web3 = Web3(Web3.HTTPProvider(rpc))\n",
    "papers={}\n",
    "daos=[]\n",
    "if web3.is_connected():\n",
    "    print(\"node connected\")\n",
    "else:\n",
    "    print(\"node connection failed!\")\n",
    "\n",
    "daos_collection=db.collection('idaosEtherlink-Testnet')\n",
    "docs = list(daos_collection.stream())\n",
    "dao_addresses = [doc.id for doc in docs]\n",
    "\n",
    "for doc in docs:\n",
    "    obj=doc.to_dict()\n",
    "    try:\n",
    "        p=Paper(address=obj['token'],kind=\"token\", daos_collection=daos_collection,db=db,  web3=web3, dao=doc.id)\n",
    "        dao=Paper(address=obj['address'],kind=\"dao\", daos_collection=daos_collection,db=db,  web3=web3, dao=doc.id)\n",
    "    except Exception as e:\n",
    "        print(\"one DAO contract can't parse correctly: \"+str(e))\n",
    "    papers.update({obj['token']:p})\n",
    "    papers.update({obj['address']:dao})\n",
    "\n",
    "event_signatures = {\n",
    "    web3.keccak(text=\"NewDaoCreated(address,address,address[],uint256[],string,string,string,uint256,address,string[],string[])\").hex(): \"NewDaoCreated\",\n",
    "    \"0x01c5013cf023a364cc49643b8f57347e398d2f0db0968edeb64e7c41bf2dfbde\":\"NewDaoCreated\",\n",
    "    \"0x3134e8a2e6d97e929a7e54011ea5485d7d196dd5f0ba4d4ef95803e8e3fc257f\":\"DelegateChanged\",\n",
    "    \"0x7d84a6263ae0d98d3329bd7b46bb4e8d6f98cd35a7adb45c274c8b7fd5ebd5e0\":\"ProposalCreated\",\n",
    "    \"0x9a2e42fd6722813d69113e7d0079d3d940171428df7373df9c7f7617cfda2892\":\"ProposalQueued\",\n",
    "    \"0x712ae1383f79ac853f8d882153778e0260ef8f03b504e2866e0593e04d2b291f\":\"ProposalExecuted\",\n",
    "    \"0xb8e138887d0aa13bab447e82de9d5c1777041ecd21ca36ba824ff1e6c07ddda4\":\"VoteCast\"\n",
    "}\n",
    "\n",
    "papers.update({wrapper_address:Paper(address=wrapper_address,kind=\"wrapper\",daos_collection=daos_collection,db=db,  web3=web3 )})\n",
    "listening_to_addresses=[wrapper_address]\n",
    "listening_to_addresses=listening_to_addresses+list(papers.keys())\n",
    "\n",
    "counter=0\n",
    "processed_transactions = set()\n",
    "heartbeat=0\n",
    "print(f\"Listening for {len(event_signatures)} events on {len(papers.items())} contracts...\")\n",
    "\n",
    "while True:\n",
    "    heartbeat+=1\n",
    "    try:\n",
    "        latest=web3.eth.block_number\n",
    "        first=latest-4\n",
    "        logs = web3.eth.get_logs({\n",
    "            \"fromBlock\": first,\n",
    "            \"toBlock\": latest,\n",
    "            \"address\": listening_to_addresses,\n",
    "            # \"topics\": [[*event_signatures.keys()], None]\n",
    "        })\n",
    "        for log in logs:\n",
    "            tx_hash = log[\"transactionHash\"].hex()\n",
    "            if tx_hash in processed_transactions:\n",
    "                print(\"already did this one\")\n",
    "                continue  # Skip duplicate\n",
    "            contract_address = log[\"address\"]\n",
    "            event_signature = log[\"topics\"][0].hex()\n",
    "            event_name = event_signatures[f\"0x{event_signature}\"]\n",
    "            print(f\"Event: {event_name}, Contract: {contract_address}\")\n",
    "            new_contract_addresses=papers[contract_address].handle_event(log, func=event_name)\n",
    "            if new_contract_addresses != None:\n",
    "                dao_address=new_contract_addresses[0]\n",
    "                token_address=new_contract_addresses[1]\n",
    "                listening_to_addresses=listening_to_addresses+[dao_address]+[token_address]\n",
    "                papers.update({token_address:Paper(address=token_address,kind=\"token\", dao=dao_address, web3=web3 )})\n",
    "                papers.update({dao_address:Paper(address=dao_address,kind=\"dao\", dao=dao_address, web3=web3 )})\n",
    "            processed_transactions.add(tx_hash)\n",
    "    except Exception as e:\n",
    "        print(\"something went wrong \"+str(e))\n",
    "\n",
    "    if heartbeat%50==0:\n",
    "        print(\"heartbeat: \"+str(heartbeat))\n",
    "\n",
    "    time.sleep(3)\n",
    "    "
   ]
  },
  {
   "cell_type": "code",
   "execution_count": 3,
   "metadata": {},
   "outputs": [
    {
     "data": {
      "text/plain": [
       "1"
      ]
     },
     "execution_count": 3,
     "metadata": {},
     "output_type": "execute_result"
    }
   ],
   "source": [
    "import apps.homebase.entities as entities\n",
    "import importlib\n",
    "importlib.reload(entities)\n",
    "\n",
    "latest_block = 14511276\n",
    "from_block = latest_block - 2\n",
    "ceva=\"\"\n",
    "logs = web3.eth.    get_logs({\n",
    "    \"fromBlock\": from_block,\n",
    "    \"toBlock\": latest_block,\n",
    "    \"address\": \"0x09166B4cA9572648B42A2A644D0c0daF4888Df48\",\n",
    "    # \"topics\": [[*event_signatures.keys()],None]\n",
    "\n",
    "})\n",
    "if len(logs)>0:\n",
    "    event_signature = log[\"topics\"][0].hex()\n",
    "    ceva=event_signature\n",
    "for log in logs:\n",
    "    # Decode the log\n",
    "    event = web3.eth.contract(abi=daoAbiGlobal).events.ProposalExecuted().process_log(log)  \n",
    "len(logs)\n"
   ]
  },
  {
   "cell_type": "code",
   "execution_count": 6,
   "metadata": {},
   "outputs": [
    {
     "data": {
      "text/plain": [
       "'38802198531964484310600104438794817880476366815233449201654127116345723490739'"
      ]
     },
     "execution_count": 6,
     "metadata": {},
     "output_type": "execute_result"
    }
   ],
   "source": [
    "proposal_id = str(event['args']['proposalId'])\n",
    "proposal_id"
   ]
  },
  {
   "cell_type": "code",
   "execution_count": 20,
   "metadata": {},
   "outputs": [
    {
     "data": {
      "text/plain": [
       "['0x379080EE8941CE5Ae5560d5E32A4CEBBaC7C6b92']"
      ]
     },
     "execution_count": 20,
     "metadata": {},
     "output_type": "execute_result"
    }
   ],
   "source": [
    "project_addresses = [doc.id for doc in projects_collection.stream()]\n",
    "project_addresses"
   ]
  },
  {
   "cell_type": "code",
   "execution_count": 10,
   "metadata": {},
   "outputs": [
    {
     "data": {
      "text/plain": [
       "8"
      ]
     },
     "execution_count": 10,
     "metadata": {},
     "output_type": "execute_result"
    }
   ],
   "source": [
    "a=[1,2,3,4,5,6,7,8,9]\n",
    "a[-2]"
   ]
  },
  {
   "cell_type": "code",
   "execution_count": null,
   "metadata": {},
   "outputs": [],
   "source": [
    "\n",
    "def listen_to_project_events(contract, contract_address):\n",
    "    global processed_transactions\n",
    "    \n",
    "    # Define the topics for all events\n",
    "    event_signatures = {\n",
    "        \"SetParties\": web3.keccak(text=\"SetParties(address,address,string)\").hex(),\n",
    "        \"SendFunds\": web3.keccak(text=\"SendFunds(address,uint256)\").hex(),\n",
    "        \"ContractorPaid\": web3.keccak(text=\"ContractorPaid(address,uint256)\").hex(),\n",
    "        \"ContributorWithdrawn\": web3.keccak(text=\"ContributorWithdrawn(address,uint256)\").hex(),\n",
    "        \"ProjectDisputed\": web3.keccak(text=\"ProjectDisputed(address)\").hex(),\n",
    "        \"ProjectClosed\": web3.keccak(text=\"ProjectClosed(address)\").hex(),\n",
    "        \"ContractSigned\": web3.keccak(text=\"ContractSigned(address)\").hex(),\n",
    "        \"ArbitrationDecision\": web3.keccak(text=\"ArbitrationDecision(address,uint256,string)\").hex(),\n",
    "    }\n",
    "\n",
    "    # Get logs for the current contract\n",
    "    logs = web3.eth.get_logs({\n",
    "        \"fromBlock\": web3.eth.block_number-3,\n",
    "        \"toBlock\": web3.eth.block_number,\n",
    "        \"address\": contract_address,\n",
    "    })\n",
    "\n",
    "    for log in logs:\n",
    "        tx_hash = log[\"transactionHash\"].hex()\n",
    "        if tx_hash in processed_transactions:\n",
    "            print(\"already did this one\")\n",
    "            continue  # Skip already processed transactions\n",
    "\n",
    "        try:\n",
    "            event_type = None\n",
    "            for event_name, topic_hash in event_signatures.items():\n",
    "                print(\"got one!\")\n",
    "                if log[\"topics\"][0].hex() == topic_hash:\n",
    "                    event_type = event_name\n",
    "                    break\n",
    "\n",
    "            if not event_type:\n",
    "                print(\"Not an avent type\")\n",
    "                continue  # Skip logs that don't match any defined events\n",
    "\n",
    "            # Decode and process the event\n",
    "            decoded_event = getattr(contract.events, event_type)().process_log(log)\n",
    "            event_data = getattr(ProjectEvents, event_type)(decoded_event)\n",
    "\n",
    "            print(f\"Event detected in contract {contract_address} ({event_type}):\", event_data)\n",
    "\n",
    "        except Exception as e:\n",
    "            print(f\"Error processing log for contract {contract_address}: {e}\")\n",
    "\n",
    "        # Mark the transaction as processed\n",
    "        processed_transactions.add(tx_hash)\n"
   ]
  },
  {
   "cell_type": "code",
   "execution_count": null,
   "metadata": {},
   "outputs": [],
   "source": [
    "while True:\n",
    "    heartbeat += 1\n",
    "\n",
    "    for address in project_addresses:\n",
    "        # Get contract instance\n",
    "        contract = web3.eth.contract(address=address, abi=native_project_abi)\n",
    "        try:\n",
    "            listen_to_project_events(contract, address)\n",
    "        except Exception as e:\n",
    "            \n",
    "            print(\"Errrorrr \"+e)\n",
    "\n",
    "    if heartbeat % 10 == 0:\n",
    "        print(f\"Heartbeat: {heartbeat}\")\n",
    "\n",
    "    time.sleep(3)"
   ]
  },
  {
   "cell_type": "code",
   "execution_count": null,
   "metadata": {},
   "outputs": [],
   "source": [
    "import apps.services"
   ]
  },
  {
   "cell_type": "code",
   "execution_count": null,
   "metadata": {},
   "outputs": [],
   "source": [
    "import requests\n",
    "dorg_homebase_channel_id = \"804689936388325376\"\n",
    "\n",
    "def send_discord_message(msg, channel_id):\n",
    "    global discord_bot_token\n",
    "    url = \"https://discordapp.com/api/channels/\"+channel_id+\"/messages\"\n",
    "    headers = {\n",
    "        \"Authorization\": \"Bot \" + discord_bot_token\n",
    "    }\n",
    "    body = {\n",
    "        \"content\": msg\n",
    "    }\n",
    "    print(\"before sending \"+msg)\n",
    "    response = requests.request(\"POST\", url, headers=headers, data=body)\n",
    "    return {\"data\": str(\"Status code \"+str(response.status_code))}"
   ]
  },
  {
   "cell_type": "code",
   "execution_count": 31,
   "metadata": {},
   "outputs": [
    {
     "name": "stdout",
     "output_type": "stream",
     "text": [
      "before sending INDEXER IS DOWN ON TRUSTLESS!\n"
     ]
    },
    {
     "data": {
      "text/plain": [
       "{'data': 'Status code 200'}"
      ]
     },
     "execution_count": 31,
     "metadata": {},
     "output_type": "execute_result"
    }
   ],
   "source": [
    "send_discord_message(channel_id=dorg_homebase_channel_id, msg=\"INDEXER IS DOWN ON TRUSTLESS!\")"
   ]
  },
  {
   "cell_type": "code",
   "execution_count": 33,
   "metadata": {},
   "outputs": [],
   "source": [
    "from dotenv import dotenv_values\n",
    "env_variables = dotenv_values(\".env\")"
   ]
  },
  {
   "cell_type": "code",
   "execution_count": null,
   "metadata": {},
   "outputs": [],
   "source": [
    "my_variable = env_variables[\"discord_bot_token\"]\n",
    "print(my_variable)"
   ]
  }
 ],
 "metadata": {
  "kernelspec": {
   "display_name": "media",
   "language": "python",
   "name": "python3"
  },
  "language_info": {
   "codemirror_mode": {
    "name": "ipython",
    "version": 3
   },
   "file_extension": ".py",
   "mimetype": "text/x-python",
   "name": "python",
   "nbconvert_exporter": "python",
   "pygments_lexer": "ipython3",
   "version": "3.12.3"
  }
 },
 "nbformat": 4,
 "nbformat_minor": 2
}
