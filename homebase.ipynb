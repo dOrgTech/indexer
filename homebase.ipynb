{
 "cells": [
  {
   "cell_type": "markdown",
   "metadata": {},
   "source": [
    "### instantiating services"
   ]
  },
  {
   "cell_type": "code",
   "execution_count": null,
   "metadata": {},
   "outputs": [
    {
     "name": "stdout",
     "output_type": "stream",
     "text": [
      "wrapper address :0xDF38eD7d9DcF15577F0E6eb619b945669F1f74b1\n",
      "node connected\n",
      "Listening for 3 events on 21 contracts...\n",
      "is this even working?\n",
      "Event: ProposalCreated, Contract: 0x09166B4cA9572648B42A2A644D0c0daF4888Df48\n",
      "something went wrong 'args'\n"
     ]
    },
    {
     "ename": "KeyboardInterrupt",
     "evalue": "",
     "output_type": "error",
     "traceback": [
      "\u001b[1;31m---------------------------------------------------------------------------\u001b[0m",
      "\u001b[1;31mKeyboardInterrupt\u001b[0m                         Traceback (most recent call last)",
      "Cell \u001b[1;32mIn[1], line 89\u001b[0m\n\u001b[0;32m     86\u001b[0m \u001b[38;5;28;01mif\u001b[39;00m heartbeat\u001b[38;5;241m%\u001b[39m\u001b[38;5;241m50\u001b[39m\u001b[38;5;241m==\u001b[39m\u001b[38;5;241m0\u001b[39m:\n\u001b[0;32m     87\u001b[0m     \u001b[38;5;28mprint\u001b[39m(\u001b[38;5;124m\"\u001b[39m\u001b[38;5;124mheartbeat: \u001b[39m\u001b[38;5;124m\"\u001b[39m\u001b[38;5;241m+\u001b[39m\u001b[38;5;28mstr\u001b[39m(heartbeat))\n\u001b[1;32m---> 89\u001b[0m \u001b[43mtime\u001b[49m\u001b[38;5;241;43m.\u001b[39;49m\u001b[43msleep\u001b[49m\u001b[43m(\u001b[49m\u001b[38;5;241;43m3\u001b[39;49m\u001b[43m)\u001b[49m\n",
      "\u001b[1;31mKeyboardInterrupt\u001b[0m: "
     ]
    }
   ],
   "source": [
    "from apps.homebase.abis import wrapperAbi, daoAbiGlobal,tokenAbiGlobal\n",
    "from apps.homebase.paper import Paper\n",
    "from datetime import datetime\n",
    "import time\n",
    "from firebase_admin import initialize_app\n",
    "from firebase_admin import firestore,credentials\n",
    "from web3 import Web3\n",
    "import re\n",
    "cred = credentials.Certificate('homebase.json')\n",
    "initialize_app(cred)\n",
    "db = firestore.client()\n",
    "networks=db.collection(\"contracts\")\n",
    "ceva=networks.document(\"Etherlink-Testnet\").get()\n",
    "wrapper_address = ceva.to_dict()['wrapper']\n",
    "print(\"wrapper address :\" + str(wrapper_address))\n",
    "rpc=\"https://node.ghostnet.etherlink.com\"\n",
    "web3 = Web3(Web3.HTTPProvider(rpc))\n",
    "papers={}\n",
    "daos=[]\n",
    "if web3.is_connected():\n",
    "    print(\"node connected\")\n",
    "else:\n",
    "    print(\"node connection failed!\")\n",
    "\n",
    "daos_collection=db.collection('idaosEtherlink-Testnet')\n",
    "docs = list(daos_collection.stream())\n",
    "dao_addresses = [doc.id for doc in docs]\n",
    "\n",
    "for doc in docs:\n",
    "    obj=doc.to_dict()\n",
    "    try:\n",
    "        p=Paper(address=obj['token'],kind=\"token\", daos_collection=daos_collection,db=db,  web3=web3, dao=doc.id)\n",
    "        dao=Paper(address=obj['address'],kind=\"dao\", daos_collection=daos_collection,db=db,  web3=web3, dao=doc.id)\n",
    "    except Exception as e:\n",
    "        print(\"one DAO contract can't parse correctly: \"+str(e))\n",
    "    papers.update({obj['token']:p})\n",
    "    papers.update({obj['address']:dao})\n",
    "\n",
    "event_signatures = {\n",
    "    web3.keccak(text=\"NewDaoCreated(address,address,address[],uint256[],string,string,string,uint256,address,string[],string[])\").hex(): \"NewDaoCreated\",\n",
    "    \"0x3134e8a2e6d97e929a7e54011ea5485d7d196dd5f0ba4d4ef95803e8e3fc257f\":\"DelegateChanged\",\n",
    "    \"0x7d84a6263ae0d98d3329bd7b46bb4e8d6f98cd35a7adb45c274c8b7fd5ebd5e0\":\"ProposalCreated\"\n",
    "}\n",
    "\n",
    "papers.update({wrapper_address:Paper(address=wrapper_address,kind=\"wrapper\",daos_collection=daos_collection,db=db,  web3=web3, dao=doc.id )})\n",
    "listening_to_addresses=[wrapper_address]\n",
    "listening_to_addresses=listening_to_addresses+list(papers.keys())\n",
    "\n",
    "\n",
    "counter=0\n",
    "processed_transactions = set()\n",
    "heartbeat=0\n",
    "print(f\"Listening for {len(event_signatures)} events on {len(papers.items())} contracts...\")\n",
    "\n",
    "while True:\n",
    "    heartbeat+=1\n",
    "    try:\n",
    "        latest=web3.eth.block_number\n",
    "        first=latest-4\n",
    "        logs = web3.eth.get_logs({\n",
    "            \"fromBlock\": first,\n",
    "            \"toBlock\": latest,\n",
    "            \"address\": listening_to_addresses,\n",
    "            # \"topics\": [[*event_signatures.keys()], None]\n",
    "        })\n",
    "        for log in logs:\n",
    "            tx_hash = log[\"transactionHash\"].hex()\n",
    "            if tx_hash in processed_transactions:\n",
    "                print(\"already did this one\")\n",
    "                continue  # Skip duplicate\n",
    "            contract_address = log[\"address\"]\n",
    "            event_signature = log[\"topics\"][0].hex()\n",
    "            print(\"is this even working?\")\n",
    "            event_name = event_signatures[f\"0x{event_signature}\"]\n",
    "            print(f\"Event: {event_name}, Contract: {contract_address}\")\n",
    "            new_contract_addresses=papers[contract_address].handle_event(log, web3=web3)\n",
    "            print(\"we did pass this\")\n",
    "            if new_contract_addresses != None:\n",
    "                dao_address=new_contract_addresses[0]\n",
    "                token_address=new_contract_addresses[1]\n",
    "                listening_to_addresses=listening_to_addresses+[dao_address]+[token_address]\n",
    "                papers.update({token_address:Paper(address=token_address,kind=\"token\", dao=dao_address )})\n",
    "            processed_transactions.add(tx_hash)\n",
    "    except Exception as e:\n",
    "        print(\"something went wrong \"+str(e))\n",
    "\n",
    "    if heartbeat%50==0:\n",
    "        print(\"heartbeat: \"+str(heartbeat))\n",
    "\n",
    "    time.sleep(3)\n",
    "    "
   ]
  },
  {
   "cell_type": "code",
   "execution_count": 44,
   "metadata": {},
   "outputs": [],
   "source": [
    "event_signatures = {\n",
    "    web3.keccak(text=\"NewDaoCreated(address,address,address[],uint256[],string,string,string,uint256,address,string[],string[])\").hex(): \"NewDaoCreated\",\n",
    "    \"0x3134e8a2e6d97e929a7e54011ea5485d7d196dd5f0ba4d4ef95803e8e3fc257f\":\"DelegateChanged\",\n",
    "    \"0x7d84a6263ae0d98d3329bd7b46bb4e8d6f98cd35a7adb45c274c8b7fd5ebd5e0\":\"ProposalCreated\"\n",
    "}"
   ]
  },
  {
   "cell_type": "code",
   "execution_count": 3,
   "metadata": {},
   "outputs": [
    {
     "data": {
      "text/plain": [
       "[]"
      ]
     },
     "execution_count": 3,
     "metadata": {},
     "output_type": "execute_result"
    }
   ],
   "source": [
    "logs"
   ]
  },
  {
   "cell_type": "code",
   "execution_count": 2,
   "metadata": {},
   "outputs": [
    {
     "data": {
      "text/plain": [
       "[AttributeDict({'address': '0x09166B4cA9572648B42A2A644D0c0daF4888Df48',\n",
       "  'topics': [HexBytes('0x7d84a6263ae0d98d3329bd7b46bb4e8d6f98cd35a7adb45c274c8b7fd5ebd5e0')],\n",
       "  'data': HexBytes('0x4cedecc4765c9d6fb35790494a61469f814bd9925aff9ac59fb8ea65c8bbb6bb000000000000000000000000a9f8f9c0bf3188ceddb9684ae28655187552bae90000000000000000000000000000000000000000000000000000000000000120000000000000000000000000000000000000000000000000000000000000016000000000000000000000000000000000000000000000000000000000000001a000000000000000000000000000000000000000000000000000000000000002000000000000000000000000000000000000000000000000000000000000db1d800000000000000000000000000000000000000000000000000000000000db1eac0000000000000000000000000000000000000000000000000000000000000340000000000000000000000000000000000000000000000000000000000000000100000000000000000000000060a93c29e3966c58a5227e1d76dcb185baa1ac6b000000000000000000000000000000000000000000000000000000000000000100000000000000000000000000000000000000000000000000000000000000000000000000000000000000000000000000000000000000000000000000000001000000000000000000000000000000000000000000000000000000000000002000000000000000000000000000000000000000000000000000000000000000000000000000000000000000000000000000000000000000000000000000000001000000000000000000000000000000000000000000000000000000000000002000000000000000000000000000000000000000000000000000000000000000c42559ddf5000000000000000000000000000000000000000000000000000000000000004000000000000000000000000000000000000000000000000000000000000000800000000000000000000000000000000000000000000000000000000000000007636576616d6963000000000000000000000000000000000000000000000000000000000000000000000000000000000000000000000000000000000000000017736976616c6f617265616d65612076696e6520616963690000000000000000000000000000000000000000000000000000000000000000000000000000000000000000000000000000000000000000000000000000000000000000315469746c65307c7c7c307265676973747279307c7c7c306465736372697074696f6e206973206c6f6e676572307c7c7c30000000000000000000000000000000'),\n",
       "  'blockNumber': 14359876,\n",
       "  'transactionHash': HexBytes('0x953e255d9bbfe06f1240435f3c18682a69bb218d97486d2672dcaa0e6d0d5a51'),\n",
       "  'transactionIndex': 0,\n",
       "  'blockHash': HexBytes('0xa52bb23aa9574c428ba476dc55d8d2b88946a7c6fead15884c00396dbb02996f'),\n",
       "  'logIndex': 0,\n",
       "  'removed': False})]"
      ]
     },
     "execution_count": 2,
     "metadata": {},
     "output_type": "execute_result"
    }
   ],
   "source": [
    "latest_block = 14359876\n",
    "from_block = latest_block - 5\n",
    "ceva=\"\"\n",
    "logs = web3.eth.get_logs({\n",
    "    \"fromBlock\": from_block,\n",
    "    \"toBlock\": latest_block,\n",
    "    \"address\": contract_address,\n",
    "    # \"topics\": [[*event_signatures.keys()],None]\n",
    "\n",
    "})\n",
    "if len(logs)>0:\n",
    "    event_signature = log[\"topics\"][0].hex()\n",
    "    ceva=event_signature\n",
    "for log in logs:\n",
    "    # Decode the log\n",
    "    event = web3.eth.contract(abi=daoAbiGlobal).events.ProposalCreated().process_log(log)\n",
    "    decoded_log=event\n",
    "    proposal_id = decoded_log[\"args\"][\"proposalId\"]\n",
    "    proposer = decoded_log[\"args\"][\"proposer\"]\n",
    "    address= decoded_log['address']\n",
    "    targets = decoded_log[\"args\"][\"targets\"]\n",
    "    values = decoded_log[\"args\"][\"values\"]\n",
    "    signatures = decoded_log[\"args\"][\"signatures\"]\n",
    "    calldatas = decoded_log[\"args\"][\"calldatas\"]\n",
    "    vote_start = decoded_log[\"args\"][\"voteStart\"]\n",
    "    vote_end = decoded_log[\"args\"][\"voteEnd\"]\n",
    "    description = decoded_log[\"args\"][\"description\"]\n",
    "    parts = description.split(\"0|||0\")\n",
    "    # Extract the fields\n",
    "    if len(parts) > 3:\n",
    "        name = parts[0]\n",
    "        type_ = parts[1]  # Using `type_` to avoid shadowing the built-in `type`\n",
    "        desc = parts[2]\n",
    "        link=parts[3]\n",
    "    else:\n",
    "        name = type_ = desc = link = None  # Handle case where the pattern is incomplete\n",
    "\n",
    "logs\n"
   ]
  },
  {
   "cell_type": "code",
   "execution_count": 4,
   "metadata": {},
   "outputs": [
    {
     "data": {
      "text/plain": [
       "AttributeDict({'proposalId': 34796153355433061949199943255421441891766800982301842079298464375245943584443,\n",
       " 'proposer': '0xa9F8F9C0bf3188cEDdb9684ae28655187552bAE9',\n",
       " 'targets': ['0x60A93C29e3966c58a5227e1D76dcB185BAa1ac6b'],\n",
       " 'values': [0],\n",
       " 'signatures': [''],\n",
       " 'calldatas': [b'%Y\\xdd\\xf5\\x00\\x00\\x00\\x00\\x00\\x00\\x00\\x00\\x00\\x00\\x00\\x00\\x00\\x00\\x00\\x00\\x00\\x00\\x00\\x00\\x00\\x00\\x00\\x00\\x00\\x00\\x00\\x00\\x00\\x00\\x00@\\x00\\x00\\x00\\x00\\x00\\x00\\x00\\x00\\x00\\x00\\x00\\x00\\x00\\x00\\x00\\x00\\x00\\x00\\x00\\x00\\x00\\x00\\x00\\x00\\x00\\x00\\x00\\x00\\x00\\x00\\x00\\x80\\x00\\x00\\x00\\x00\\x00\\x00\\x00\\x00\\x00\\x00\\x00\\x00\\x00\\x00\\x00\\x00\\x00\\x00\\x00\\x00\\x00\\x00\\x00\\x00\\x00\\x00\\x00\\x00\\x00\\x00\\x00\\x07cevamic\\x00\\x00\\x00\\x00\\x00\\x00\\x00\\x00\\x00\\x00\\x00\\x00\\x00\\x00\\x00\\x00\\x00\\x00\\x00\\x00\\x00\\x00\\x00\\x00\\x00\\x00\\x00\\x00\\x00\\x00\\x00\\x00\\x00\\x00\\x00\\x00\\x00\\x00\\x00\\x00\\x00\\x00\\x00\\x00\\x00\\x00\\x00\\x00\\x00\\x00\\x00\\x00\\x00\\x00\\x00\\x00\\x17sivaloareamea vine aici\\x00\\x00\\x00\\x00\\x00\\x00\\x00\\x00\\x00'],\n",
       " 'voteStart': 14359936,\n",
       " 'voteEnd': 14360236,\n",
       " 'description': 'Title0|||0registry0|||0description is longer0|||0'})"
      ]
     },
     "execution_count": 4,
     "metadata": {},
     "output_type": "execute_result"
    }
   ],
   "source": [
    "event['args']"
   ]
  },
  {
   "cell_type": "code",
   "execution_count": 12,
   "metadata": {},
   "outputs": [],
   "source": [
    "from apps.homebase.entities import ProposalStatus, Proposal\n",
    "p: Proposal = Proposal(name=name, org=address)\n",
    "p.author = proposer\n",
    "p.id = proposal_id\n",
    "p.type = type_\n",
    "p.targets = targets\n",
    "p.values = values\n",
    "p.callDatas = calldatas\n",
    "from datetime import timezone\n",
    "block_details = web3.eth.get_block(log.blockNumber)\n",
    "p.createdAt = datetime.fromtimestamp(\n",
    "    block_details['timestamp'], tz=timezone.utc)\n",
    "p.votingStartsBlock = str(vote_start)\n",
    "p.votingEndsBlock = str(vote_end)\n",
    "p.externalResource = link"
   ]
  },
  {
   "cell_type": "code",
   "execution_count": 13,
   "metadata": {},
   "outputs": [
    {
     "data": {
      "text/plain": [
       "update_time {\n",
       "  seconds: 1732833964\n",
       "  nanos: 510510000\n",
       "}"
      ]
     },
     "execution_count": 13,
     "metadata": {},
     "output_type": "execute_result"
    }
   ],
   "source": [
    "proposal_doc_ref = daos_collection \\\n",
    "    .document(\"0x09166B4cA9572648B42A2A644D0c0daF4888Df48\") \\\n",
    "    .collection('proposals') \\\n",
    "    .document(\"34796153355433061949199943255421441891766800982301842079298464375245943584443\")\n",
    "proposal_doc_ref.set(p.toJson())"
   ]
  },
  {
   "cell_type": "code",
   "execution_count": 56,
   "metadata": {},
   "outputs": [
    {
     "data": {
      "text/plain": [
       "{'01c5013cf023a364cc49643b8f57347e398d2f0db0968edeb64e7c41bf2dfbde': 'NewDaoCreated',\n",
       " '0x3134e8a2e6d97e929a7e54011ea5485d7d196dd5f0ba4d4ef95803e8e3fc257f': 'DelegateChanged',\n",
       " '0x7d84a6263ae0d98d3329bd7b46bb4e8d6f98cd35a7adb45c274c8b7fd5ebd5e0': 'ProposalCreated'}"
      ]
     },
     "execution_count": 56,
     "metadata": {},
     "output_type": "execute_result"
    }
   ],
   "source": [
    "event_signatures"
   ]
  },
  {
   "cell_type": "code",
   "execution_count": null,
   "metadata": {},
   "outputs": [
    {
     "data": {
      "text/plain": [
       "'7d84a6263ae0d98d3329bd7b46bb4e8d6f98cd35a7adb45c274c8b7fd5ebd5e0'"
      ]
     },
     "execution_count": 58,
     "metadata": {},
     "output_type": "execute_result"
    }
   ],
   "source": [
    "event_signatures[f\"0x{ceva}\"]"
   ]
  },
  {
   "cell_type": "code",
   "execution_count": null,
   "metadata": {},
   "outputs": [
    {
     "name": "stdout",
     "output_type": "stream",
     "text": [
      "Proposal ID: 34796153355433061949199943255421441891766800982301842079298464375245943584443\n",
      "Proposer: 0xa9F8F9C0bf3188cEDdb9684ae28655187552bAE9\n",
      "Targets: ['0x60A93C29e3966c58a5227e1D76dcB185BAa1ac6b']\n",
      "Values: [0]\n",
      "Signatures: ['']\n",
      "Calldatas: ['2559ddf5000000000000000000000000000000000000000000000000000000000000004000000000000000000000000000000000000000000000000000000000000000800000000000000000000000000000000000000000000000000000000000000007636576616d6963000000000000000000000000000000000000000000000000000000000000000000000000000000000000000000000000000000000000000017736976616c6f617265616d65612076696e652061696369000000000000000000']\n",
      "Vote Start: 14359936\n",
      "Vote End: 14360236\n",
      "Description: Title0|||0registry0|||0description is longer0|||0\n"
     ]
    }
   ],
   "source": [
    "from apps.homebase.entities import Proposal\n",
    "decoded_log=event\n",
    "proposal_id = decoded_log[\"args\"][\"proposalId\"]\n",
    "proposer = decoded_log[\"args\"][\"proposer\"]\n",
    "address= decoded_log['address']\n",
    "targets = decoded_log[\"args\"][\"targets\"]\n",
    "values = decoded_log[\"args\"][\"values\"]\n",
    "signatures = decoded_log[\"args\"][\"signatures\"]\n",
    "calldatas = decoded_log[\"args\"][\"calldatas\"]\n",
    "vote_start = decoded_log[\"args\"][\"voteStart\"]\n",
    "vote_end = decoded_log[\"args\"][\"voteEnd\"]\n",
    "description = decoded_log[\"args\"][\"description\"]\n",
    "parts = description.split(\"0|||0\")\n",
    "\n",
    "# Extract the fields\n",
    "if len(parts) >= 3:\n",
    "    name = parts[0]\n",
    "    type_ = parts[1]  # Using `type_` to avoid shadowing the built-in `type`\n",
    "    desc = parts[2]\n",
    "    link=parts[3]\n",
    "else:\n",
    "    name = type_ = desc = link = None  # Handle case where the pattern is incomplete\n",
    "\n",
    "p:Proposal= Proposal(name=name, org=address)\n",
    "p.author=proposer\n",
    "p.id=proposal_id\n",
    "p.type=type_\n",
    "p.targets=targets\n",
    "p.values=values\n",
    "p.callDatas=calldatas\n",
    "from datetime import timezone\n",
    "block_details = web3.eth.get_block(logs[0].blockNumber)\n",
    "p.createdAt=datetime.fromtimestamp(block_details['timestamp'], tz=timezone.utc)\n",
    "p.votingStartsBlock=str(vote_start)\n",
    "p.votingEndsBlock=str(vote_end)\n",
    "p.externalResource=link"
   ]
  },
  {
   "cell_type": "code",
   "execution_count": 4,
   "metadata": {},
   "outputs": [],
   "source": [
    "from datetime import timezone\n",
    "block_details = web3.eth.get_block(14389936)\n",
    "p.createdAt=datetime.fromtimestamp(block_details['timestamp'], tz=timezone.utc)"
   ]
  },
  {
   "cell_type": "code",
   "execution_count": 26,
   "metadata": {},
   "outputs": [
    {
     "data": {
      "text/plain": [
       "14359876"
      ]
     },
     "execution_count": 26,
     "metadata": {},
     "output_type": "execute_result"
    }
   ],
   "source": [
    "logs[0].blockNumber"
   ]
  },
  {
   "cell_type": "code",
   "execution_count": 24,
   "metadata": {},
   "outputs": [
    {
     "data": {
      "text/plain": [
       "14359936"
      ]
     },
     "execution_count": 24,
     "metadata": {},
     "output_type": "execute_result"
    }
   ],
   "source": [
    "vote_start"
   ]
  },
  {
   "cell_type": "code",
   "execution_count": 22,
   "metadata": {},
   "outputs": [
    {
     "name": "stderr",
     "output_type": "stream",
     "text": [
      "C:\\Users\\Administrator\\AppData\\Local\\Temp\\ipykernel_33284\\1008997432.py:1: DeprecationWarning: datetime.datetime.utcfromtimestamp() is deprecated and scheduled for removal in a future version. Use timezone-aware objects to represent datetimes in UTC: datetime.datetime.fromtimestamp(timestamp, datetime.UTC).\n",
      "  datetime.utcfromtimestamp(block_details['timestamp'])\n"
     ]
    },
    {
     "data": {
      "text/plain": [
       "datetime.datetime(2024, 11, 28, 13, 12, 23)"
      ]
     },
     "execution_count": 22,
     "metadata": {},
     "output_type": "execute_result"
    }
   ],
   "source": [
    "datetime.utcfromtimestamp(block_details['timestamp'])"
   ]
  },
  {
   "cell_type": "code",
   "execution_count": 4,
   "metadata": {},
   "outputs": [
    {
     "name": "stdout",
     "output_type": "stream",
     "text": [
      "Address value: 2\n"
     ]
    }
   ],
   "source": [
    "tabi=re.sub(r'\\n+', ' ', tokenAbiGlobal).strip()\n",
    "token_contract = web3.eth.contract(address=\"0xFdEe849bA09bFE39aF1973F68bA8A1E1dE79DBF9\", abi=tabi)\n",
    "\n",
    "\n",
    "# Call the read-only function\n",
    "\n",
    "\n",
    "print(f\"Address value: {address_variable_value}\")\n"
   ]
  },
  {
   "cell_type": "code",
   "execution_count": 8,
   "metadata": {},
   "outputs": [
    {
     "data": {
      "text/plain": [
       "int"
      ]
     },
     "execution_count": 8,
     "metadata": {},
     "output_type": "execute_result"
    }
   ],
   "source": [
    "type(address_variable_value)"
   ]
  },
  {
   "cell_type": "code",
   "execution_count": 23,
   "metadata": {},
   "outputs": [
    {
     "data": {
      "text/plain": [
       "0"
      ]
     },
     "execution_count": 23,
     "metadata": {},
     "output_type": "execute_result"
    }
   ],
   "source": [
    "first=web3.eth.block_number-4\n",
    "logs = web3.eth.get_logs({\n",
    "    \"fromBlock\": first,\n",
    "    \"toBlock\": web3.eth.block_number,\n",
    "    \"address\": wrapper_address,\n",
    "    \"topics\": [\n",
    "        web3.keccak(text=\"NewDaoCreated(address,address,address[],uint256[],string,string,string,uint256)\").hex(),\n",
    "        None,  # Match any dao address\n",
    "    ]\n",
    "})\n",
    "len(logs)"
   ]
  },
  {
   "cell_type": "code",
   "execution_count": 24,
   "metadata": {},
   "outputs": [
    {
     "data": {
      "text/plain": [
       "13872535"
      ]
     },
     "execution_count": 24,
     "metadata": {},
     "output_type": "execute_result"
    }
   ],
   "source": [
    "first"
   ]
  },
  {
   "cell_type": "code",
   "execution_count": 9,
   "metadata": {},
   "outputs": [],
   "source": [
    "decoded_event = wrapper_contract.events.NewDaoCreated().process_log(logs[0])"
   ]
  },
  {
   "cell_type": "code",
   "execution_count": 10,
   "metadata": {},
   "outputs": [
    {
     "data": {
      "text/plain": [
       "AttributeDict({'args': AttributeDict({'dao': '0x833365797370B3fE7F5B86E10FA62195e74b102e',\n",
       "  'token': '0x69d7aF22AdDECA38b47686237c5a3d6Ce915111E',\n",
       "  'initialMembers': ['0x36fE1912506E4b3B85e5a4e102237Ea81da1C3d3'],\n",
       "  'initialAmounts': [100000, 1, 1, 1, 1],\n",
       "  'name': 'aced',\n",
       "  'symbol': 'ADS',\n",
       "  'description': 'this is the description',\n",
       "  'executionDelay': 90}),\n",
       " 'event': 'NewDaoCreated',\n",
       " 'logIndex': 11,\n",
       " 'transactionIndex': 1,\n",
       " 'transactionHash': HexBytes('0x36e1197c733317bed02a9cf6e9bb084ba8ccc5a04cdff9072c51a7fd9c46530c'),\n",
       " 'address': '0xA3C99359F376bE32ADE1C259Faa01e119B038436',\n",
       " 'blockHash': HexBytes('0x9570374a8a889a9c65db2b6c54d313caebfbbbac6ec02c14ad45089199c5f5f8'),\n",
       " 'blockNumber': 13871169})"
      ]
     },
     "execution_count": 10,
     "metadata": {},
     "output_type": "execute_result"
    }
   ],
   "source": [
    "decoded_event"
   ]
  },
  {
   "cell_type": "code",
   "execution_count": 20,
   "metadata": {},
   "outputs": [
    {
     "data": {
      "text/plain": [
       "['0x379080EE8941CE5Ae5560d5E32A4CEBBaC7C6b92']"
      ]
     },
     "execution_count": 20,
     "metadata": {},
     "output_type": "execute_result"
    }
   ],
   "source": [
    "project_addresses = [doc.id for doc in projects_collection.stream()]\n",
    "project_addresses"
   ]
  },
  {
   "cell_type": "code",
   "execution_count": 10,
   "metadata": {},
   "outputs": [
    {
     "data": {
      "text/plain": [
       "8"
      ]
     },
     "execution_count": 10,
     "metadata": {},
     "output_type": "execute_result"
    }
   ],
   "source": [
    "a=[1,2,3,4,5,6,7,8,9]\n",
    "a[-2]"
   ]
  },
  {
   "cell_type": "code",
   "execution_count": 26,
   "metadata": {},
   "outputs": [],
   "source": [
    "\n",
    "def listen_to_project_events(contract, contract_address):\n",
    "    global processed_transactions\n",
    "    \n",
    "    # Define the topics for all events\n",
    "    event_signatures = {\n",
    "        \"SetParties\": web3.keccak(text=\"SetParties(address,address,string)\").hex(),\n",
    "        \"SendFunds\": web3.keccak(text=\"SendFunds(address,uint256)\").hex(),\n",
    "        \"ContractorPaid\": web3.keccak(text=\"ContractorPaid(address,uint256)\").hex(),\n",
    "        \"ContributorWithdrawn\": web3.keccak(text=\"ContributorWithdrawn(address,uint256)\").hex(),\n",
    "        \"ProjectDisputed\": web3.keccak(text=\"ProjectDisputed(address)\").hex(),\n",
    "        \"ProjectClosed\": web3.keccak(text=\"ProjectClosed(address)\").hex(),\n",
    "        \"ContractSigned\": web3.keccak(text=\"ContractSigned(address)\").hex(),\n",
    "        \"ArbitrationDecision\": web3.keccak(text=\"ArbitrationDecision(address,uint256,string)\").hex(),\n",
    "    }\n",
    "\n",
    "    # Get logs for the current contract\n",
    "    logs = web3.eth.get_logs({\n",
    "        \"fromBlock\": web3.eth.block_number-3,\n",
    "        \"toBlock\": web3.eth.block_number,\n",
    "        \"address\": contract_address,\n",
    "    })\n",
    "\n",
    "    for log in logs:\n",
    "        tx_hash = log[\"transactionHash\"].hex()\n",
    "        if tx_hash in processed_transactions:\n",
    "            print(\"already did this one\")\n",
    "            continue  # Skip already processed transactions\n",
    "\n",
    "        try:\n",
    "            event_type = None\n",
    "            for event_name, topic_hash in event_signatures.items():\n",
    "                print(\"got one!\")\n",
    "                if log[\"topics\"][0].hex() == topic_hash:\n",
    "                    event_type = event_name\n",
    "                    break\n",
    "\n",
    "            if not event_type:\n",
    "                print(\"Not an avent type\")\n",
    "                continue  # Skip logs that don't match any defined events\n",
    "\n",
    "            # Decode and process the event\n",
    "            decoded_event = getattr(contract.events, event_type)().process_log(log)\n",
    "            event_data = getattr(ProjectEvents, event_type)(decoded_event)\n",
    "\n",
    "            print(f\"Event detected in contract {contract_address} ({event_type}):\", event_data)\n",
    "\n",
    "        except Exception as e:\n",
    "            print(f\"Error processing log for contract {contract_address}: {e}\")\n",
    "\n",
    "        # Mark the transaction as processed\n",
    "        processed_transactions.add(tx_hash)\n"
   ]
  },
  {
   "cell_type": "code",
   "execution_count": null,
   "metadata": {},
   "outputs": [],
   "source": [
    "while True:\n",
    "    heartbeat += 1\n",
    "\n",
    "    for address in project_addresses:\n",
    "        # Get contract instance\n",
    "        contract = web3.eth.contract(address=address, abi=native_project_abi)\n",
    "        try:\n",
    "            listen_to_project_events(contract, address)\n",
    "        except Exception as e:\n",
    "            \n",
    "            print(\"Errrorrr \"+e)\n",
    "\n",
    "    if heartbeat % 10 == 0:\n",
    "        print(f\"Heartbeat: {heartbeat}\")\n",
    "\n",
    "    time.sleep(3)"
   ]
  },
  {
   "cell_type": "code",
   "execution_count": null,
   "metadata": {},
   "outputs": [],
   "source": [
    "import apps.services"
   ]
  },
  {
   "cell_type": "code",
   "execution_count": null,
   "metadata": {},
   "outputs": [],
   "source": [
    "import requests\n",
    "dorg_homebase_channel_id = \"804689936388325376\"\n",
    "\n",
    "def send_discord_message(msg, channel_id):\n",
    "    global discord_bot_token\n",
    "    url = \"https://discordapp.com/api/channels/\"+channel_id+\"/messages\"\n",
    "    headers = {\n",
    "        \"Authorization\": \"Bot \" + discord_bot_token\n",
    "    }\n",
    "    body = {\n",
    "        \"content\": msg\n",
    "    }\n",
    "    print(\"before sending \"+msg)\n",
    "    response = requests.request(\"POST\", url, headers=headers, data=body)\n",
    "    return {\"data\": str(\"Status code \"+str(response.status_code))}"
   ]
  },
  {
   "cell_type": "code",
   "execution_count": 31,
   "metadata": {},
   "outputs": [
    {
     "name": "stdout",
     "output_type": "stream",
     "text": [
      "before sending INDEXER IS DOWN ON TRUSTLESS!\n"
     ]
    },
    {
     "data": {
      "text/plain": [
       "{'data': 'Status code 200'}"
      ]
     },
     "execution_count": 31,
     "metadata": {},
     "output_type": "execute_result"
    }
   ],
   "source": [
    "send_discord_message(channel_id=dorg_homebase_channel_id, msg=\"INDEXER IS DOWN ON TRUSTLESS!\")"
   ]
  },
  {
   "cell_type": "code",
   "execution_count": 33,
   "metadata": {},
   "outputs": [],
   "source": [
    "from dotenv import dotenv_values\n",
    "env_variables = dotenv_values(\".env\")"
   ]
  },
  {
   "cell_type": "code",
   "execution_count": null,
   "metadata": {},
   "outputs": [],
   "source": [
    "my_variable = env_variables[\"discord_bot_token\"]\n",
    "print(my_variable)"
   ]
  }
 ],
 "metadata": {
  "kernelspec": {
   "display_name": "media",
   "language": "python",
   "name": "python3"
  },
  "language_info": {
   "codemirror_mode": {
    "name": "ipython",
    "version": 3
   },
   "file_extension": ".py",
   "mimetype": "text/x-python",
   "name": "python",
   "nbconvert_exporter": "python",
   "pygments_lexer": "ipython3",
   "version": "3.12.3"
  }
 },
 "nbformat": 4,
 "nbformat_minor": 2
}
