{
 "cells": [
  {
   "cell_type": "markdown",
   "metadata": {},
   "source": [
    "### instantiating services"
   ]
  },
  {
   "cell_type": "code",
   "execution_count": 2,
   "metadata": {},
   "outputs": [
    {
     "data": {
      "text/plain": [
       "update_time {\n",
       "  seconds: 1733756664\n",
       "  nanos: 768808000\n",
       "}"
      ]
     },
     "execution_count": 2,
     "metadata": {},
     "output_type": "execute_result"
    }
   ],
   "source": [
    "from datetime import datetime, timezone\n",
    "from firebase_admin import initialize_app\n",
    "from firebase_admin import firestore,credentials\n",
    "from web3 import Web3\n",
    "import re\n",
    "cred = credentials.Certificate('homebase.json')\n",
    "initialize_app(cred)\n",
    "db = firestore.client()\n",
    "some=db.collection(\"some\")\n",
    "# Always get the current time in UTC\n",
    "uite = datetime.now(timezone.utc)\n",
    "some.document(\"whatever\").set({\"what\": uite})"
   ]
  },
  {
   "cell_type": "code",
   "execution_count": 26,
   "metadata": {},
   "outputs": [
    {
     "name": "stdout",
     "output_type": "stream",
     "text": [
      "against 0, inFavor 1333\n"
     ]
    }
   ],
   "source": [
    "daos_collection=db.collection('idaosEtherlink-Testnet')\n",
    "proposal_doc_ref = daos_collection \\\n",
    "            .document(\"0xb5e60De29AF240DF386DCF26eA529f477b93f3Ef\") \\\n",
    "            .collection('proposals') \\\n",
    "            .document(\"41296605969268937190325073060614567362649195436429149154767968960542315171563\")\n",
    "ceva=proposal_doc_ref.get()\n",
    "data=ceva.to_dict()\n",
    "from apps.homebase.entities import Proposal\n",
    "org=None\n",
    "prop:Proposal = Proposal(name=\"whatever\", org=org)\n",
    "prop.fromJson(data)\n",
    "print(f\"against {prop.against}, inFavor {prop.inFavor}\")"
   ]
  },
  {
   "cell_type": "code",
   "execution_count": null,
   "metadata": {},
   "outputs": [],
   "source": [
    "import codecs\n",
    "from eth_utils import to_bytes\n",
    "\n",
    "def hex_to_bytes(hex_string):\n",
    "    return codecs.decode(hex_string.replace(\"0x\", \"\"), \"hex\")\n",
    "\n",
    "def bytes_to_int(byte_array):\n",
    "    return int.from_bytes(byte_array, byteorder=\"big\")\n",
    "\n",
    "def decode_function_parameters(function_abi, data_bytes):\n",
    "    data_without_selector = data_bytes[4:]\n",
    "    offset = 0\n",
    "    decoded_params = []\n",
    "    for param in function_abi[\"inputs\"]:\n",
    "        param_type = param[\"type\"]\n",
    "        if param_type == \"string\":\n",
    "            # Decode string (dynamic)\n",
    "            param_offset = bytes_to_int(data_without_selector[offset:offset + 32])\n",
    "            string_offset = param_offset\n",
    "            string_length = bytes_to_int(data_without_selector[string_offset:string_offset + 32])\n",
    "            string_data = data_without_selector[string_offset + 32:string_offset + 32 + string_length]\n",
    "            decoded_params.append(string_data.decode(\"utf-8\"))\n",
    "        elif param_type == \"address\":\n",
    "            # Decode address (last 20 bytes of the 32-byte slot)\n",
    "            address_bytes = data_without_selector[offset + 12:offset + 32]\n",
    "            decoded_params.append(\"0x\" + address_bytes.hex())\n",
    "        elif param_type.startswith(\"uint\"):\n",
    "            # Decode uint (entire 32 bytes)\n",
    "            uint_bytes = data_without_selector[offset:offset + 32]\n",
    "            decoded_params.append(str(bytes_to_int(uint_bytes)))\n",
    "        else:\n",
    "            raise ValueError(f\"Unsupported parameter type: {param_type}\")\n",
    "\n",
    "        # Move to the next 32-byte slot\n",
    "        offset += 32\n",
    "\n",
    "    return decoded_params\n"
   ]
  },
  {
   "cell_type": "code",
   "execution_count": null,
   "metadata": {},
   "outputs": [],
   "source": [
    "mint_function_abi = {\n",
    "    \"name\": \"mint\",\n",
    "    \"inputs\": [\n",
    "        {\"name\": \"to\", \"type\": \"address\"},\n",
    "        {\"name\": \"amount\", \"type\": \"uint256\"},\n",
    "    ],\n",
    "}"
   ]
  },
  {
   "cell_type": "code",
   "execution_count": 27,
   "metadata": {},
   "outputs": [],
   "source": [
    "decoded = decode_function_parameters(mint_function_abi, prop.callDatas[0])"
   ]
  },
  {
   "cell_type": "code",
   "execution_count": 28,
   "metadata": {},
   "outputs": [
    {
     "name": "stdout",
     "output_type": "stream",
     "text": [
      "['0xa6a40e0b6db5a6f808703dbe91dbe50b7fc1fa3e', '32100']\n"
     ]
    },
    {
     "data": {
      "text/plain": [
       "['0xB14179168ec05a77423cD3d7bB68D14a81187bFF']"
      ]
     },
     "execution_count": 28,
     "metadata": {},
     "output_type": "execute_result"
    }
   ],
   "source": [
    "print(decoded)\n",
    "prop.targets"
   ]
  },
  {
   "cell_type": "code",
   "execution_count": 38,
   "metadata": {},
   "outputs": [
    {
     "data": {
      "text/plain": [
       "'0xA6A40E0b6DB5a6f808703DBe91DbE50B7FC1fa3E'"
      ]
     },
     "execution_count": 38,
     "metadata": {},
     "output_type": "execute_result"
    }
   ],
   "source": [
    "Web3.to_checksum_address(\"0xa6a40e0b6db5a6f808703dbe91dbe50b7fc1fa3e\")"
   ]
  },
  {
   "cell_type": "code",
   "execution_count": 9,
   "metadata": {},
   "outputs": [
    {
     "name": "stdout",
     "output_type": "stream",
     "text": [
      "from chain: 2024-12-15 13:09:16\n",
      "timestamp from chain 1734268156\n",
      "local: 2024-12-15 15:09:19\n"
     ]
    },
    {
     "name": "stderr",
     "output_type": "stream",
     "text": [
      "C:\\Users\\Administrator\\AppData\\Local\\Temp\\ipykernel_24608\\1181815313.py:9: DeprecationWarning: datetime.datetime.utcfromtimestamp() is deprecated and scheduled for removal in a future version. Use timezone-aware objects to represent datetimes in UTC: datetime.datetime.fromtimestamp(timestamp, datetime.UTC).\n",
      "  dt_object = datetime.utcfromtimestamp(timestamp)\n"
     ]
    }
   ],
   "source": [
    "from apps.homebase.abis import tokenAbiGlobal\n",
    "from web3 import Web3\n",
    "from datetime import datetime\n",
    "rpc=\"https://node.ghostnet.etherlink.com\"\n",
    "web3 = Web3(Web3.HTTPProvider(rpc))\n",
    "block=web3.eth.get_block('latest')\n",
    "now=datetime.now()\n",
    "timestamp =block['timestamp']\n",
    "dt_object = datetime.utcfromtimestamp(timestamp)\n",
    "print(f\"from chain: {dt_object.strftime('%Y-%m-%d %H:%M:%S')}\")\n",
    "print(\"timestamp from chain \"+str(timestamp))\n",
    "print(f\"local: {now.strftime('%Y-%m-%d %H:%M:%S')}\")\n",
    "token_contract = web3.eth.contract(\n",
    "    address=\"0x5B78FE1Fd6e42786183A40F8e471Fb319F362235\", abi=tokenAbiGlobal)\n",
    "balance = token_contract.functions.balanceOf(Web3.to_checksum_address(\"0xa6a40e0b6db5a6f808703dbe91dbe50b7fc1fa3e\")).call()"
   ]
  },
  {
   "cell_type": "code",
   "execution_count": 12,
   "metadata": {},
   "outputs": [
    {
     "data": {
      "text/plain": [
       "3201000"
      ]
     },
     "execution_count": 12,
     "metadata": {},
     "output_type": "execute_result"
    }
   ],
   "source": [
    "supply=token_contract.functions.totalSupply().call()\n",
    "supply"
   ]
  },
  {
   "cell_type": "code",
   "execution_count": 13,
   "metadata": {},
   "outputs": [
    {
     "data": {
      "text/plain": [
       "3200000"
      ]
     },
     "execution_count": 13,
     "metadata": {},
     "output_type": "execute_result"
    }
   ],
   "source": [
    "balance"
   ]
  },
  {
   "cell_type": "code",
   "execution_count": 29,
   "metadata": {},
   "outputs": [
    {
     "data": {
      "text/plain": [
       "update_time {\n",
       "  seconds: 1733579362\n",
       "  nanos: 147842000\n",
       "}"
      ]
     },
     "execution_count": 29,
     "metadata": {},
     "output_type": "execute_result"
    }
   ],
   "source": [
    "ceva=proposal_doc_ref.get()\n",
    "option=0\n",
    "votingWeight=\"400000\"\n",
    "if option==1:\n",
    "    prop.inFavor= str(int(prop.inFavor)+int(votingWeight))\n",
    "    prop.votesFor+=1\n",
    "elif option==0:\n",
    "    prop.against= str(int(prop.against)+int(votingWeight))\n",
    "    prop.votesAgainst+=1\n",
    "proposal_doc_ref.set(prop.toJson())\n"
   ]
  },
  {
   "cell_type": "code",
   "execution_count": null,
   "metadata": {},
   "outputs": [],
   "source": [
    "from apps.homebase.abis import wrapperAbi, daoAbiGlobal, tokenAbiGlobal\n",
    "from apps.homebase.paper import Paper\n",
    "from datetime import datetime, timezone\n",
    "import time\n",
    "from firebase_admin import initialize_app\n",
    "from firebase_admin import firestore, credentials\n",
    "from web3 import Web3\n",
    "import os\n",
    "import sys\n",
    "import re\n",
    "cred = credentials.Certificate('homebase.json')\n",
    "initialize_app(cred)\n",
    "db = firestore.client()\n",
    "networks = db.collection(\"contracts\")\n",
    "ceva = networks.document(\"Etherlink-Testnet\").get()\n",
    "wrapper_address = ceva.to_dict()['wrapper']\n",
    "print(\"wrapper address :\" + str(wrapper_address))\n",
    "rpc = \"https://node.ghostnet.etherlink.com\"\n",
    "\n",
    "web3 = Web3(Web3.HTTPProvider(rpc))\n",
    "papers = {}\n",
    "daos = []\n",
    "if web3.is_connected():\n",
    "    print(\"node connected\")\n",
    "else:\n",
    "    print(\"node connection failed!\")\n",
    "\n",
    "daos_collection = db.collection('idaosEtherlink-Testnet')\n",
    "docs = list(daos_collection.stream())\n",
    "dao_addresses = [doc.id for doc in docs]\n",
    "\n",
    "for doc in docs:\n",
    "    obj = doc.to_dict()\n",
    "    try:\n",
    "        p = Paper(address=obj['token'], kind=\"token\",\n",
    "                  daos_collection=daos_collection, db=db,  web3=web3, dao=doc.id)\n",
    "        dao = Paper(address=obj['address'], kind=\"dao\",token=p,\n",
    "                    daos_collection=daos_collection, db=db,  web3=web3, dao=doc.id)\n",
    "    except Exception as e:\n",
    "        print(\"one DAO contract can't parse correctly: \"+str(e))\n",
    "    papers.update({obj['token']: p})\n",
    "    papers.update({obj['address']: dao})\n",
    "\n",
    "event_signatures = {\n",
    "    web3.keccak(text=\"NewDaoCreated(address,address,address[],uint256[],string,string,string,uint256,address,string[],string[])\").hex(): \"NewDaoCreated\",\n",
    "    \"0x01c5013cf023a364cc49643b8f57347e398d2f0db0968edeb64e7c41bf2dfbde\": \"NewDaoCreated\",\n",
    "    \"0x3134e8a2e6d97e929a7e54011ea5485d7d196dd5f0ba4d4ef95803e8e3fc257f\": \"DelegateChanged\",\n",
    "    \"0x7d84a6263ae0d98d3329bd7b46bb4e8d6f98cd35a7adb45c274c8b7fd5ebd5e0\": \"ProposalCreated\",\n",
    "    \"0x9a2e42fd6722813d69113e7d0079d3d940171428df7373df9c7f7617cfda2892\": \"ProposalQueued\",\n",
    "    \"0x712ae1383f79ac853f8d882153778e0260ef8f03b504e2866e0593e04d2b291f\": \"ProposalExecuted\",\n",
    "    \"0xb8e138887d0aa13bab447e82de9d5c1777041ecd21ca36ba824ff1e6c07ddda4\": \"VoteCast\"\n",
    "}\n",
    "\n",
    "papers.update({wrapper_address: Paper(address=wrapper_address,\n",
    "              kind=\"wrapper\", daos_collection=daos_collection, db=db,  web3=web3)})\n",
    "listening_to_addresses = [wrapper_address]\n",
    "listening_to_addresses = listening_to_addresses+list(papers.keys())\n",
    "\n",
    "counter = 0\n",
    "processed_transactions = set()\n",
    "heartbeat = 0\n",
    "print(f\"Listening for {len(event_signatures)} events on {\n",
    "      len(papers.items())} contracts...\")\n",
    "\n",
    "while True:\n",
    "    heartbeat += 1\n",
    "    try:\n",
    "        latest = web3.eth.block_number\n",
    "        first = latest-13\n",
    "        logs = web3.eth.get_logs({\n",
    "            \"fromBlock\": first,\n",
    "            \"toBlock\": latest,\n",
    "            \"address\": listening_to_addresses,\n",
    "            # \"topics\": [[*event_signatures.keys()], None]\n",
    "        })\n",
    "        for log in logs:\n",
    "            tx_hash = log[\"transactionHash\"].hex()\n",
    "            if tx_hash in processed_transactions:\n",
    "                print(\"already did this one\")\n",
    "                continue  # Skip duplicate\n",
    "            contract_address = log[\"address\"]\n",
    "            event_signature = \"0x\"+log[\"topics\"][0].hex()\n",
    "            if event_signatures.get(event_signature) is not None:\n",
    "                event_name = event_signatures[event_signature]\n",
    "                processed_transactions.add(tx_hash)\n",
    "            else:\n",
    "                notfound = True\n",
    "                print(\"not found\")\n",
    "                continue\n",
    "            event_name = event_signatures[event_signature]\n",
    "            print(f\"Event: {event_name}, Contract: {contract_address}\")\n",
    "            print(f\"Event: {event_name}, Contract: {contract_address}\")\n",
    "            new_contract_addresses = papers[contract_address].handle_event(\n",
    "                log, func=event_name)\n",
    "            if new_contract_addresses != None:\n",
    "                dao_address = new_contract_addresses[0]\n",
    "                token_address = new_contract_addresses[1]\n",
    "                print(\"adding dao \"+dao_address+\" and token \"+token_address)\n",
    "                listening_to_addresses = listening_to_addresses + \\\n",
    "                    [dao_address] + [token_address]\n",
    "                print(\"latest addresses added \" +\n",
    "                      str(listening_to_addresses[-1]+\", \"+str(listening_to_addresses[-2])))\n",
    "                papers.update({token_address: Paper(\n",
    "                    address=token_address, kind=\"token\", daos_collection=daos_collection, db=db, dao=dao_address, web3=web3)})\n",
    "                papers.update({dao_address: Paper(\n",
    "                    address=dao_address, kind=\"dao\", daos_collection=daos_collection, db=db, dao=dao_address, web3=web3)})\n",
    "\n",
    "    except Exception as e:\n",
    "        print(\"something went wrong \"+str(e))\n",
    "        web3 = Web3(Web3.HTTPProvider(rpc))\n",
    "        if web3.is_connected():\n",
    "            print(\"node connected\")\n",
    "        else:\n",
    "            print(\"node connection failed!\")\n",
    "            os.execl(sys.executable, sys.executable, *sys.argv)\n",
    "    if heartbeat % 50 == 0:\n",
    "        print(\"heartbeat: \"+str(heartbeat))\n",
    "\n",
    "    time.sleep(3)\n"
   ]
  },
  {
   "cell_type": "code",
   "execution_count": 2,
   "metadata": {},
   "outputs": [
    {
     "ename": "AttributeError",
     "evalue": "'Paper' object has no attribute 'get'",
     "output_type": "error",
     "traceback": [
      "\u001b[1;31m---------------------------------------------------------------------------\u001b[0m",
      "\u001b[1;31mAttributeError\u001b[0m                            Traceback (most recent call last)",
      "Cell \u001b[1;32mIn[2], line 1\u001b[0m\n\u001b[1;32m----> 1\u001b[0m contract\u001b[38;5;241m=\u001b[39m\u001b[43mpapers\u001b[49m\u001b[43m[\u001b[49m\u001b[38;5;124;43m\"\u001b[39;49m\u001b[38;5;124;43m0x51fD80a11203a73da29519A2B8413C953F5007a9\u001b[39;49m\u001b[38;5;124;43m\"\u001b[39;49m\u001b[43m]\u001b[49m\u001b[38;5;241;43m.\u001b[39;49m\u001b[43mget\u001b[49m\n",
      "\u001b[1;31mAttributeError\u001b[0m: 'Paper' object has no attribute 'get'"
     ]
    }
   ],
   "source": [
    "contract=papers[\"0x51fD80a11203a73da29519A2B8413C953F5007a9\"].get"
   ]
  },
  {
   "cell_type": "code",
   "execution_count": 3,
   "metadata": {},
   "outputs": [],
   "source": [
    "contract= papers['0x096947d75e6e10AFa93587FB662070fB6Dfe521a'].get_token_contract()"
   ]
  },
  {
   "cell_type": "code",
   "execution_count": 5,
   "metadata": {},
   "outputs": [
    {
     "data": {
      "text/plain": [
       "89811065"
      ]
     },
     "execution_count": 5,
     "metadata": {},
     "output_type": "execute_result"
    }
   ],
   "source": [
    "totalSupply = contract.functions.totalSupply().call()\n",
    "totalSupply"
   ]
  }
 ],
 "metadata": {
  "kernelspec": {
   "display_name": "media",
   "language": "python",
   "name": "python3"
  },
  "language_info": {
   "codemirror_mode": {
    "name": "ipython",
    "version": 3
   },
   "file_extension": ".py",
   "mimetype": "text/x-python",
   "name": "python",
   "nbconvert_exporter": "python",
   "pygments_lexer": "ipython3",
   "version": "3.12.3"
  }
 },
 "nbformat": 4,
 "nbformat_minor": 2
}
