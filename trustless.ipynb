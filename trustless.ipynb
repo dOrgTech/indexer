{
 "cells": [
  {
   "cell_type": "markdown",
   "metadata": {},
   "source": [
    "### instantiating services"
   ]
  },
  {
   "cell_type": "code",
   "execution_count": 1,
   "metadata": {},
   "outputs": [
    {
     "name": "stdout",
     "output_type": "stream",
     "text": [
      "economy address :0xBBdfB8ad5ea5DE3eD6D2CF3A78dc13E89509af54\n",
      "node connected\n"
     ]
    }
   ],
   "source": [
    "from datetime import datetime\n",
    "from firebase_admin import initialize_app\n",
    "from firebase_admin import firestore,credentials\n",
    "from web3 import Web3\n",
    "from abis import economyAbi\n",
    "import re\n",
    "from entities.project import Project\n",
    "from entities.economy import Economy\n",
    "from abis import nativeProjectAbi\n",
    "import concurrent.futures\n",
    "\n",
    "cred = credentials.Certificate('trustless.json')\n",
    "initialize_app(cred)\n",
    "db = firestore.client()\n",
    "networks=db.collection(\"networks\")\n",
    "ceva=networks.document(\"Etherlink-Testnet\").get()\n",
    "economy_address = ceva.to_dict()['economyAddress']\n",
    "print(\"economy address :\" + str(economy_address))\n",
    "rpc=\"https://node.ghostnet.etherlink.com\"\n",
    "web3 = Web3(Web3.HTTPProvider(rpc))\n",
    "projects = []\n",
    "if web3.is_connected():\n",
    "    print(\"node connected\")\n",
    "else:\n",
    "    print(\"node connection failed!\")\n",
    "\n",
    "economy_abi=re.sub(r'\\n+', ' ', economyAbi).strip()\n",
    "economy_contract = web3.eth.contract(address=economy_address, abi=economy_abi)\n",
    "projects_collection=db.collection('iProjectsEtherlink-Testnet')\n",
    "economy=Economy(economy_contract)\n",
    "\n",
    "native_project_abi=re.sub(r'\\n+', ' ', nativeProjectAbi).strip()\n",
    "project_contract = web3.eth.contract(address=economy_address, abi=native_project_abi)"
   ]
  },
  {
   "cell_type": "code",
   "execution_count": null,
   "metadata": {},
   "outputs": [],
   "source": [
    "import time\n",
    "current_block=web3.eth.block_number\n",
    "counter=0\n",
    "start_block=current_block-10\n",
    "processed_transactions = set()\n",
    "heartbeat=0\n",
    "\n",
    "while True:\n",
    "    heartbeat+=1\n",
    "    logs = web3.eth.get_logs({\n",
    "        \"fromBlock\": start_block,\n",
    "        \"toBlock\": web3.eth.block_number,\n",
    "        \"address\": economy_address,\n",
    "        \"topics\": [\n",
    "            web3.keccak(text=\"NewProject(address,string,address,address,string,string,string)\").hex(),  # Removed spaces\n",
    "            None  # Added None to match any contractAddress\n",
    "        ]\n",
    "    })\n",
    "\n",
    "    for log in logs:\n",
    "        tx_hash = log[\"transactionHash\"].hex()\n",
    "        if tx_hash in processed_transactions:\n",
    "            continue  # Skip duplicate\n",
    "        print(\"new project detected !\")\n",
    "        decoded_event = economy_contract.events.NewProject().process_log(log)\n",
    "        processed_transactions.add(tx_hash)\n",
    "        address = decoded_event['args']['contractAddress']\n",
    "        projectName = decoded_event['args']['projectName']\n",
    "        contractor = decoded_event['args']['contractor']\n",
    "        arbiter = decoded_event['args']['arbiter']\n",
    "        termsHash = decoded_event['args']['termsHash']\n",
    "        repo = decoded_event['args']['repo']\n",
    "        transactionHash = decoded_event['transactionHash']\n",
    "        description = decoded_event['args']['description']\n",
    "        p: Project = Project(address, projectName, contractor,\n",
    "                                arbiter, termsHash, repo, description)\n",
    "        projects_collection.document(p.address).set(p.serialize())\n",
    "        processed_transactions.add(tx_hash)\n",
    "    if heartbeat%10==0:\n",
    "        print(\"heartbeat: \"+str(heartbeat))\n",
    "\n",
    "    time.sleep(3)\n",
    "    "
   ]
  },
  {
   "cell_type": "code",
   "execution_count": null,
   "metadata": {},
   "outputs": [],
   "source": [
    "import importlib\n",
    "import entities.project\n",
    "from entities.project import Project, ProjectEvents\n",
    "importlib.reload(entities.project)"
   ]
  },
  {
   "cell_type": "code",
   "execution_count": 20,
   "metadata": {},
   "outputs": [
    {
     "data": {
      "text/plain": [
       "['0x379080EE8941CE5Ae5560d5E32A4CEBBaC7C6b92']"
      ]
     },
     "execution_count": 20,
     "metadata": {},
     "output_type": "execute_result"
    }
   ],
   "source": [
    "project_addresses = [doc.id for doc in projects_collection.stream()]\n",
    "project_addresses"
   ]
  },
  {
   "cell_type": "code",
   "execution_count": null,
   "metadata": {},
   "outputs": [],
   "source": [
    "def listen_to_project_events(contract, contract_address):\n",
    "    global processed_transactions\n",
    "    \n",
    "    # Define the topics for all events\n",
    "    event_signatures = {\n",
    "        \"SetParties\": web3.keccak(text=\"SetParties(address,address,string)\").hex(),\n",
    "        \"SendFunds\": web3.keccak(text=\"SendFunds(address,uint256)\").hex(),\n",
    "        \"ContractorPaid\": web3.keccak(text=\"ContractorPaid(address,uint256)\").hex(),\n",
    "        \"ContributorWithdrawn\": web3.keccak(text=\"ContributorWithdrawn(address,uint256)\").hex(),\n",
    "        \"ProjectDisputed\": web3.keccak(text=\"ProjectDisputed(address)\").hex(),\n",
    "        \"ProjectClosed\": web3.keccak(text=\"ProjectClosed(address)\").hex(),\n",
    "        \"ContractSigned\": web3.keccak(text=\"ContractSigned(address)\").hex(),\n",
    "        \"ArbitrationDecision\": web3.keccak(text=\"ArbitrationDecision(address,uint256,string)\").hex(),\n",
    "    }\n",
    "\n",
    "    # Get logs for the current contract\n",
    "    logs = web3.eth.get_logs({\n",
    "        \"fromBlock\": web3.eth.block_number-3,\n",
    "        \"toBlock\": web3.eth.block_number,\n",
    "        \"address\": contract_address,\n",
    "    })\n",
    "\n",
    "    for log in logs:\n",
    "        tx_hash = log[\"transactionHash\"].hex()\n",
    "        if tx_hash in processed_transactions:\n",
    "            print(\"already did this one\")\n",
    "            continue  # Skip already processed transactions\n",
    "\n",
    "        try:\n",
    "            event_type = None\n",
    "            for event_name, topic_hash in event_signatures.items():\n",
    "                print(\"got one!\")\n",
    "                if log[\"topics\"][0].hex() == topic_hash:\n",
    "                    event_type = event_name\n",
    "                    break\n",
    "\n",
    "            if not event_type:\n",
    "                print(\"Not an avent type\")\n",
    "                continue  # Skip logs that don't match any defined events\n",
    "\n",
    "            # Decode and process the event\n",
    "            decoded_event = getattr(contract.events, event_type)().process_log(log)\n",
    "            event_data = getattr(ProjectEvents, event_type)(decoded_event)\n",
    "\n",
    "            print(f\"Event detected in contract {contract_address} ({event_type}):\", event_data)\n",
    "\n",
    "        except Exception as e:\n",
    "            print(f\"Error processing log for contract {contract_address}: {e}\")\n",
    "\n",
    "        # Mark the transaction as processed\n",
    "        processed_transactions.add(tx_hash)\n"
   ]
  },
  {
   "cell_type": "code",
   "execution_count": 3,
   "metadata": {},
   "outputs": [
    {
     "name": "stdout",
     "output_type": "stream",
     "text": [
      "Address 1: 0xc5E9Cf03744BB2D29cd23B29B1dBe5411dff2a8c\n",
      "Private Key 1: 0xa0e286b238abfbabce90331211c4f5ea65d59e91bfb2aa8b605eccdf9eef7500\n",
      "\n",
      "Address 2: 0xe6429070e21325E34963a5147C4ff93441554859\n",
      "Private Key 2: 0xab406f179b756406809c77b628bc0ba7aefbb74edc07083644bd3d726677c0e2\n",
      "\n",
      "Address 3: 0xbA3b4E0D9B83348553328A8F0098B3a0190E4432\n",
      "Private Key 3: 0x1b5481a7b44157d6a63cbc3a5206ca4b208cb748a4f42e509adfabe09ded2292\n",
      "\n",
      "Address 4: 0xf62f56f07f511417245a7eD9BCD7e6429954e807\n",
      "Private Key 4: 0x9293398dc74c25ca969fe43d4678cc919247f4501817a2f472c8fbb76aa8e7a7\n",
      "\n",
      "Address 5: 0x305Ad7F8Ef0555ED2f00D870179A5fAfC67b7c8b\n",
      "Private Key 5: 0xcdfdc80dd79e9059a8e0f3ccb8d1d6a94f0f8c50328389fa82d9a8f5f9665121\n",
      "\n"
     ]
    }
   ],
   "source": [
    "from eth_keys import keys\n",
    "from eth_utils import to_checksum_address\n",
    "import os\n",
    "\n",
    "def generate_eth_address():\n",
    "    # Generate a random private key\n",
    "    private_key = keys.PrivateKey(os.urandom(32))\n",
    "    public_key = private_key.public_key\n",
    "\n",
    "    # Generate the Ethereum address\n",
    "    eth_address = to_checksum_address(public_key.to_address())\n",
    "\n",
    "    return private_key, eth_address\n",
    "\n",
    "# Generate and print 5 Ethereum addresses with their private keys\n",
    "for i in range(5):\n",
    "    private_key, eth_address = generate_eth_address()\n",
    "    print(f\"Address {i + 1}: {eth_address}\")\n",
    "    print(f\"Private Key {i + 1}: {private_key}\\n\")"
   ]
  },
  {
   "cell_type": "code",
   "execution_count": null,
   "metadata": {},
   "outputs": [],
   "source": [
    "while True:\n",
    "    heartbeat += 1\n",
    "\n",
    "    for address in project_addresses:\n",
    "        # Get contract instance\n",
    "        contract = web3.eth.contract(address=address, abi=native_project_abi)\n",
    "        try:\n",
    "            listen_to_project_events(contract, address)\n",
    "        except Exception as e:\n",
    "            \n",
    "            print(\"Errrorrr \"+e)\n",
    "\n",
    "    if heartbeat % 10 == 0:\n",
    "        print(f\"Heartbeat: {heartbeat}\")\n",
    "\n",
    "    time.sleep(3)"
   ]
  },
  {
   "cell_type": "code",
   "execution_count": 28,
   "metadata": {},
   "outputs": [],
   "source": [
    "import entities.services"
   ]
  },
  {
   "cell_type": "code",
   "execution_count": null,
   "metadata": {},
   "outputs": [],
   "source": [
    "import requests\n",
    "dorg_homebase_channel_id = \"804689936388325376\"\n",
    "\n",
    "def send_discord_message(msg, channel_id):\n",
    "    global discord_bot_token\n",
    "    url = \"https://discordapp.com/api/channels/\"+channel_id+\"/messages\"\n",
    "    headers = {\n",
    "        \"Authorization\": \"Bot \" + discord_bot_token\n",
    "    }\n",
    "    body = {\n",
    "        \"content\": msg\n",
    "    }\n",
    "    print(\"before sending \"+msg)\n",
    "    response = requests.request(\"POST\", url, headers=headers, data=body)\n",
    "    return {\"data\": str(\"Status code \"+str(response.status_code))}"
   ]
  },
  {
   "cell_type": "code",
   "execution_count": 31,
   "metadata": {},
   "outputs": [
    {
     "name": "stdout",
     "output_type": "stream",
     "text": [
      "before sending INDEXER IS DOWN ON TRUSTLESS!\n"
     ]
    },
    {
     "data": {
      "text/plain": [
       "{'data': 'Status code 200'}"
      ]
     },
     "execution_count": 31,
     "metadata": {},
     "output_type": "execute_result"
    }
   ],
   "source": [
    "send_discord_message(channel_id=dorg_homebase_channel_id, msg=\"INDEXER IS DOWN ON TRUSTLESS!\")"
   ]
  },
  {
   "cell_type": "code",
   "execution_count": 33,
   "metadata": {},
   "outputs": [],
   "source": [
    "from dotenv import dotenv_values\n",
    "env_variables = dotenv_values(\".env\")"
   ]
  },
  {
   "cell_type": "code",
   "execution_count": null,
   "metadata": {},
   "outputs": [],
   "source": [
    "my_variable = env_variables[\"discord_bot_token\"]\n",
    "print(my_variable)"
   ]
  }
 ],
 "metadata": {
  "kernelspec": {
   "display_name": "media",
   "language": "python",
   "name": "python3"
  },
  "language_info": {
   "codemirror_mode": {
    "name": "ipython",
    "version": 3
   },
   "file_extension": ".py",
   "mimetype": "text/x-python",
   "name": "python",
   "nbconvert_exporter": "python",
   "pygments_lexer": "ipython3",
   "version": "3.12.3"
  }
 },
 "nbformat": 4,
 "nbformat_minor": 2
}
